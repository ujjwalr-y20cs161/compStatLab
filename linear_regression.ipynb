{
 "cells": [
  {
   "cell_type": "markdown",
   "id": "6ca3d8ce",
   "metadata": {},
   "source": [
    "# Linear Regression"
   ]
  },
  {
   "cell_type": "code",
   "execution_count": 1,
   "id": "85a073ff",
   "metadata": {},
   "outputs": [],
   "source": [
    "import pandas as pd"
   ]
  },
  {
   "cell_type": "code",
   "execution_count": 2,
   "id": "825d4ee7",
   "metadata": {},
   "outputs": [],
   "source": [
    "x=[0,1,3,6,8]\n",
    "y=[1,3,2,5,4]\n",
    "x=pd.Series(x)\n",
    "y=pd.Series(y)\n",
    "n=len(x)"
   ]
  },
  {
   "cell_type": "code",
   "execution_count": 3,
   "id": "cd173cf6",
   "metadata": {},
   "outputs": [],
   "source": [
    "xy=x*y\n",
    "df1=pd.DataFrame()"
   ]
  },
  {
   "cell_type": "code",
   "execution_count": 4,
   "id": "f944d9a8",
   "metadata": {},
   "outputs": [],
   "source": [
    "df1['x']=x\n",
    "df1['y']=y\n",
    "df1['xy']=xy\n",
    "df1['x2']=x**2\n",
    "df1.loc[5]=[sum(df1['x']),sum(df1['y']),sum(df1['xy']),sum(df1['x2'])]"
   ]
  },
  {
   "cell_type": "code",
   "execution_count": 5,
   "id": "50209b8d",
   "metadata": {},
   "outputs": [
    {
     "data": {
      "text/html": [
       "<div>\n",
       "<style scoped>\n",
       "    .dataframe tbody tr th:only-of-type {\n",
       "        vertical-align: middle;\n",
       "    }\n",
       "\n",
       "    .dataframe tbody tr th {\n",
       "        vertical-align: top;\n",
       "    }\n",
       "\n",
       "    .dataframe thead th {\n",
       "        text-align: right;\n",
       "    }\n",
       "</style>\n",
       "<table border=\"1\" class=\"dataframe\">\n",
       "  <thead>\n",
       "    <tr style=\"text-align: right;\">\n",
       "      <th></th>\n",
       "      <th>x</th>\n",
       "      <th>y</th>\n",
       "      <th>xy</th>\n",
       "      <th>x2</th>\n",
       "    </tr>\n",
       "  </thead>\n",
       "  <tbody>\n",
       "    <tr>\n",
       "      <th>0</th>\n",
       "      <td>0</td>\n",
       "      <td>1</td>\n",
       "      <td>0</td>\n",
       "      <td>0</td>\n",
       "    </tr>\n",
       "    <tr>\n",
       "      <th>1</th>\n",
       "      <td>1</td>\n",
       "      <td>3</td>\n",
       "      <td>3</td>\n",
       "      <td>1</td>\n",
       "    </tr>\n",
       "    <tr>\n",
       "      <th>2</th>\n",
       "      <td>3</td>\n",
       "      <td>2</td>\n",
       "      <td>6</td>\n",
       "      <td>9</td>\n",
       "    </tr>\n",
       "    <tr>\n",
       "      <th>3</th>\n",
       "      <td>6</td>\n",
       "      <td>5</td>\n",
       "      <td>30</td>\n",
       "      <td>36</td>\n",
       "    </tr>\n",
       "    <tr>\n",
       "      <th>4</th>\n",
       "      <td>8</td>\n",
       "      <td>4</td>\n",
       "      <td>32</td>\n",
       "      <td>64</td>\n",
       "    </tr>\n",
       "    <tr>\n",
       "      <th>5</th>\n",
       "      <td>18</td>\n",
       "      <td>15</td>\n",
       "      <td>71</td>\n",
       "      <td>110</td>\n",
       "    </tr>\n",
       "  </tbody>\n",
       "</table>\n",
       "</div>"
      ],
      "text/plain": [
       "    x   y  xy   x2\n",
       "0   0   1   0    0\n",
       "1   1   3   3    1\n",
       "2   3   2   6    9\n",
       "3   6   5  30   36\n",
       "4   8   4  32   64\n",
       "5  18  15  71  110"
      ]
     },
     "execution_count": 5,
     "metadata": {},
     "output_type": "execute_result"
    }
   ],
   "source": [
    "df1"
   ]
  },
  {
   "cell_type": "code",
   "execution_count": 7,
   "id": "fa3de6a5",
   "metadata": {},
   "outputs": [
    {
     "name": "stdout",
     "output_type": "stream",
     "text": [
      "0.37610619469026546 1.6460176991150444\n"
     ]
    }
   ],
   "source": [
    "n=len(x)\n",
    "a=((n*df1.loc[5]['xy'])-(df1.loc[5]['x']*df1.loc[5]['y']))/(n*df1.loc[5]['x2']-(df1.loc[5]['x'])**2)\n",
    "b=(df1.loc[5]['y']-a*df1.loc[5]['x'])/n\n",
    "print(a , b)"
   ]
  },
  {
   "cell_type": "code",
   "execution_count": 8,
   "id": "fb10d9c8",
   "metadata": {},
   "outputs": [],
   "source": [
    "ycal=a*x+b"
   ]
  },
  {
   "cell_type": "code",
   "execution_count": 9,
   "id": "ec4c53a5",
   "metadata": {},
   "outputs": [
    {
     "data": {
      "text/plain": [
       "0    1.646018\n",
       "1    2.022124\n",
       "2    2.774336\n",
       "3    3.902655\n",
       "4    4.654867\n",
       "dtype: float64"
      ]
     },
     "execution_count": 9,
     "metadata": {},
     "output_type": "execute_result"
    }
   ],
   "source": [
    "ycal"
   ]
  },
  {
   "cell_type": "code",
   "execution_count": 13,
   "id": "25f38fa4",
   "metadata": {},
   "outputs": [
    {
     "data": {
      "text/plain": [
       "[<matplotlib.lines.Line2D at 0x1d2040c5f70>]"
      ]
     },
     "execution_count": 13,
     "metadata": {},
     "output_type": "execute_result"
    },
    {
     "data": {
      "image/png": "[encoded data removed]",
      "text/plain": [
       "<Figure size 432x288 with 1 Axes>"
      ]
     },
     "metadata": {
      "needs_background": "light"
     },
     "output_type": "display_data"
    }
   ],
   "source": [
    "import matplotlib.pyplot as plt\n",
    "plt.plot(x,ycal,marker='o')\n",
    "plt.plot(x,y,marker='s')"
   ]
  },
  {
   "cell_type": "code",
   "execution_count": null,
   "id": "ac7c773f",
   "metadata": {},
   "outputs": [],
   "source": []
  }
 ],
 "metadata": {
  "kernelspec": {
   "display_name": "Python 3 (ipykernel)",
   "language": "python",
   "name": "python3"
  },
  "language_info": {
   "codemirror_mode": {
    "name": "ipython",
    "version": 3
   },
   "file_extension": ".py",
   "mimetype": "text/x-python",
   "name": "python",
   "nbconvert_exporter": "python",
   "pygments_lexer": "ipython3",
   "version": "3.9.7"
  }
 },
 "nbformat": 4,
 "nbformat_minor": 5
}
