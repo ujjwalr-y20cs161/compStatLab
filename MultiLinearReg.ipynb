{
 "cells": [
  {
   "cell_type": "markdown",
   "metadata": {},
   "source": [
    "<h1 style='color:cyan;'>Multi Linear Regression<h1>"
   ]
  },
  {
   "cell_type": "code",
   "execution_count": 2,
   "metadata": {},
   "outputs": [],
   "source": [
    "def line():\n",
    "    print('-------------------------------------------------------------------------------------')"
   ]
  },
  {
   "cell_type": "code",
   "execution_count": 66,
   "metadata": {},
   "outputs": [],
   "source": [
    "##Library\n",
    "import numpy as np\n",
    "import scipy.stats as ss\n",
    "import math"
   ]
  },
  {
   "cell_type": "code",
   "execution_count": 7,
   "metadata": {},
   "outputs": [],
   "source": [
    "#input cell\n",
    "\n",
    "y = np.array(list(map(int,input('enter y').split())))\n",
    "x1 = np.array(list(map(int,input('enter x1').split())))\n",
    "x2 = np.array(list(map(int,input('enter x2').split())))"
   ]
  },
  {
   "cell_type": "code",
   "execution_count": 48,
   "metadata": {},
   "outputs": [],
   "source": [
    "x0 = np.ones(len(x1),int)\n",
    "xt = np.array([x0,x1,x2])\n",
    "x = xt.transpose()\n",
    "y = y.reshape([len(y),1])\n",
    "x, y, xt\n",
    "los = 0.05"
   ]
  },
  {
   "cell_type": "code",
   "execution_count": 62,
   "metadata": {},
   "outputs": [
    {
     "name": "stdout",
     "output_type": "stream",
     "text": [
      "[[133.46048243]\n",
      " [ -1.24850346]\n",
      " [ -0.35100837]]\n",
      "[133.46048243  -1.24850346  -0.35100837]\n",
      "[40.89440259769005, 0.011751452364648463, 0.012314726867089485]\n"
     ]
    }
   ],
   "source": [
    "## b = ((xt*x)**-1)*(xt*y)\n",
    "## b1 = xt*x\n",
    "## b2 = xt*y \n",
    "## b1inv = inv(b1)\n",
    "\n",
    "\n",
    "b1 = np.dot(xt,x)\n",
    "b1inv = np.linalg.inv(b1)\n",
    "cjj = [b1inv[i][i] for i in range(3)]\n",
    "b2 = np.dot(xt,y)\n",
    "\n",
    "b = np.dot(b1inv,b2)\n",
    "print(b)\n",
    "ans = b.reshape([len(b)])\n",
    "print(ans)\n",
    "print(cjj)"
   ]
  },
  {
   "cell_type": "code",
   "execution_count": 10,
   "metadata": {},
   "outputs": [
    {
     "data": {
      "text/plain": [
       "array([[100.46143226],\n",
       "       [103.11396921],\n",
       "       [102.25642243],\n",
       "       [ 94.92093172],\n",
       "       [ 96.36491352],\n",
       "       [100.96797067],\n",
       "       [105.41549778],\n",
       "       [108.80999978],\n",
       "       [105.25996775],\n",
       "       [105.80645446],\n",
       "       [104.71348104],\n",
       "       [104.90895938]])"
      ]
     },
     "execution_count": 10,
     "metadata": {},
     "output_type": "execute_result"
    }
   ],
   "source": [
    "yExp = []\n",
    "\n",
    "for i,j in zip(x1,x2):\n",
    "    yExp.append((ans[0]+ans[1]*i+ans[2]*j))\n",
    "\n",
    "yExp = np.array(yExp)\n",
    "yExp = yExp.reshape([len(yExp),1])\n",
    "yExp"
   ]
  },
  {
   "cell_type": "code",
   "execution_count": 11,
   "metadata": {},
   "outputs": [
    {
     "name": "stdout",
     "output_type": "stream",
     "text": [
      "[[-0.46143226]\n",
      " [ 6.88603079]\n",
      " [ 2.74357757]\n",
      " [-0.92093172]\n",
      " [-1.36491352]\n",
      " [-1.96797067]\n",
      " [-1.41549778]\n",
      " [-0.80999978]\n",
      " [-0.25996775]\n",
      " [-7.80645446]\n",
      " [ 0.28651896]\n",
      " [ 5.09104062]]\n"
     ]
    }
   ],
   "source": [
    "epsil = y - yExp\n",
    "print(epsil)"
   ]
  },
  {
   "cell_type": "code",
   "execution_count": 12,
   "metadata": {},
   "outputs": [
    {
     "data": {
      "text/plain": [
       "102.75"
      ]
     },
     "execution_count": 12,
     "metadata": {},
     "output_type": "execute_result"
    }
   ],
   "source": [
    "ybar = np.mean(y)\n",
    "ybar"
   ]
  },
  {
   "cell_type": "code",
   "execution_count": 13,
   "metadata": {},
   "outputs": [
    {
     "data": {
      "text/plain": [
       "(151.41040622031764, 178.83959377968236, 330.25)"
      ]
     },
     "execution_count": 13,
     "metadata": {},
     "output_type": "execute_result"
    }
   ],
   "source": [
    "sst = sum((y-ybar)**2)[0]\n",
    "sse = sum(epsil**2)[0]\n",
    "ssr = sst-sse\n",
    "\n",
    "sse,ssr,sst"
   ]
  },
  {
   "cell_type": "code",
   "execution_count": 14,
   "metadata": {},
   "outputs": [
    {
     "data": {
      "text/plain": [
       "0.5415279145486218"
      ]
     },
     "execution_count": 14,
     "metadata": {},
     "output_type": "execute_result"
    }
   ],
   "source": [
    "R2 = ssr/sst\n",
    "R2"
   ]
  },
  {
   "cell_type": "code",
   "execution_count": 15,
   "metadata": {},
   "outputs": [
    {
     "name": "stdout",
     "output_type": "stream",
     "text": [
      "The model is : y = 133.46048242804682+(-1.2485034569591562)*x1+(-0.351008371805392)*x2\n",
      "-------------------------------------------------------------------------------------\n",
      "    x1  x2  observed y  expected y     error\n",
      "0    9  62         100  100.461432 -0.461432\n",
      "1    8  58         110  103.113969  6.886031\n",
      "2    7  64         105  102.256422  2.743578\n",
      "3   14  60          94   94.920932 -0.920932\n",
      "4   12  63          95   96.364914 -1.364914\n",
      "5   10  57          99  100.967971 -1.967971\n",
      "6    7  55         104  105.415498 -1.415498\n",
      "7    4  56         108  108.810000 -0.810000\n",
      "8    6  59         105  105.259968 -0.259968\n",
      "9    5  61          98  105.806454 -7.806454\n",
      "10   7  57         105  104.713481  0.286519\n",
      "11   6  60         110  104.908959  5.091041\n",
      "-------------------------------------------------------------------------------------\n",
      "mean sum of squares due to \n",
      " -->regression 178.83959377968236\n",
      " -->total 330.25 \n",
      " -->error 151.41040622031764\n",
      "-------------------------------------------------------------------------------------\n",
      "The coefficient of Determination is R2 : 0.5415279145486218\n",
      "-------------------------------------------------------------------------------------\n",
      "As R2 is less than 0.9, the model is not a goodfit\n"
     ]
    }
   ],
   "source": [
    "import pandas as pd\n",
    "val={\n",
    "    'x1':x1,\n",
    "    'x2':x2,\n",
    "    'observed y':y.transpose()[0],\n",
    "    'expected y':yExp.transpose()[0],\n",
    "    'error':epsil.transpose()[0]\n",
    "}\n",
    "print(f'The model is : y = {ans[0]}+({ans[1]})*x1+({ans[2]})*x2')\n",
    "line()\n",
    "df = pd.DataFrame(val)\n",
    "print(df)\n",
    "line()\n",
    "print(f'mean sum of squares due to \\n -->regression {ssr}\\n -->total {sst} \\n -->error {sse}')\n",
    "line()\n",
    "print(f'The coefficient of Determination is R2 : {R2}')\n",
    "line()\n",
    "if(R2>0.9):\n",
    "    print('As R2 is greater than 0.9, the model is a goodfit')\n",
    "else:\n",
    "    print('As R2 is less than 0.9, the model is not a goodfit')"
   ]
  },
  {
   "cell_type": "markdown",
   "metadata": {},
   "source": [
    "<h3>ANOVA Test</h3>"
   ]
  },
  {
   "cell_type": "code",
   "execution_count": 16,
   "metadata": {},
   "outputs": [
    {
     "data": {
      "text/plain": [
       "{'p-1': 2, 'n-1': 11, 'n-p': 9}"
      ]
     },
     "execution_count": 16,
     "metadata": {},
     "output_type": "execute_result"
    }
   ],
   "source": [
    "##ANOVA test\n",
    "\n",
    "# h0 : bj = 0\n",
    "# h1 : bj != 0\n",
    "# los = 0.05\n",
    "\n",
    "degFre = {\n",
    "    # number of variable - 1 =  \n",
    "    'p-1':3-1,\n",
    "    # number of observation  - 1 =  \n",
    "    'n-1':len(y)-1,\n",
    "    # n-p\n",
    "    'n-p':len(y)-3\n",
    "}\n",
    "\n",
    "degFre\n",
    "\n",
    "\n",
    "\n"
   ]
  },
  {
   "cell_type": "code",
   "execution_count": 42,
   "metadata": {},
   "outputs": [
    {
     "data": {
      "text/html": [
       "<div>\n",
       "<style scoped>\n",
       "    .dataframe tbody tr th:only-of-type {\n",
       "        vertical-align: middle;\n",
       "    }\n",
       "\n",
       "    .dataframe tbody tr th {\n",
       "        vertical-align: top;\n",
       "    }\n",
       "\n",
       "    .dataframe thead th {\n",
       "        text-align: right;\n",
       "    }\n",
       "</style>\n",
       "<table border=\"1\" class=\"dataframe\">\n",
       "  <thead>\n",
       "    <tr style=\"text-align: right;\">\n",
       "      <th></th>\n",
       "      <th>src of var</th>\n",
       "      <th>Sum of sqr</th>\n",
       "      <th>Deg Fre</th>\n",
       "    </tr>\n",
       "  </thead>\n",
       "  <tbody>\n",
       "    <tr>\n",
       "      <th>0</th>\n",
       "      <td>Regression</td>\n",
       "      <td>178.839594</td>\n",
       "      <td>2</td>\n",
       "    </tr>\n",
       "    <tr>\n",
       "      <th>1</th>\n",
       "      <td>Error</td>\n",
       "      <td>151.410406</td>\n",
       "      <td>9</td>\n",
       "    </tr>\n",
       "  </tbody>\n",
       "</table>\n",
       "</div>"
      ],
      "text/plain": [
       "   src of var  Sum of sqr  Deg Fre\n",
       "0  Regression  178.839594        2\n",
       "1       Error  151.410406        9"
      ]
     },
     "execution_count": 42,
     "metadata": {},
     "output_type": "execute_result"
    }
   ],
   "source": [
    "val = {\n",
    "    'src of var' : ['Regression','Error'],\n",
    "    'Sum of sqr' : [ssr,sse],\n",
    "    'Deg Fre'     : [degFre['p-1'],degFre['n-p']],\n",
    "}\n",
    "\n",
    "anova = pd.DataFrame(val)\n",
    "anova"
   ]
  },
  {
   "cell_type": "code",
   "execution_count": 43,
   "metadata": {},
   "outputs": [
    {
     "data": {
      "text/html": [
       "<div>\n",
       "<style scoped>\n",
       "    .dataframe tbody tr th:only-of-type {\n",
       "        vertical-align: middle;\n",
       "    }\n",
       "\n",
       "    .dataframe tbody tr th {\n",
       "        vertical-align: top;\n",
       "    }\n",
       "\n",
       "    .dataframe thead th {\n",
       "        text-align: right;\n",
       "    }\n",
       "</style>\n",
       "<table border=\"1\" class=\"dataframe\">\n",
       "  <thead>\n",
       "    <tr style=\"text-align: right;\">\n",
       "      <th></th>\n",
       "      <th>src of var</th>\n",
       "      <th>Sum of sqr</th>\n",
       "      <th>Deg Fre</th>\n",
       "    </tr>\n",
       "  </thead>\n",
       "  <tbody>\n",
       "    <tr>\n",
       "      <th>0</th>\n",
       "      <td>Regression</td>\n",
       "      <td>178.839594</td>\n",
       "      <td>2</td>\n",
       "    </tr>\n",
       "    <tr>\n",
       "      <th>1</th>\n",
       "      <td>Error</td>\n",
       "      <td>151.410406</td>\n",
       "      <td>9</td>\n",
       "    </tr>\n",
       "    <tr>\n",
       "      <th>2</th>\n",
       "      <td>total</td>\n",
       "      <td>330.250000</td>\n",
       "      <td>11</td>\n",
       "    </tr>\n",
       "  </tbody>\n",
       "</table>\n",
       "</div>"
      ],
      "text/plain": [
       "   src of var  Sum of sqr  Deg Fre\n",
       "0  Regression  178.839594        2\n",
       "1       Error  151.410406        9\n",
       "2       total  330.250000       11"
      ]
     },
     "execution_count": 43,
     "metadata": {},
     "output_type": "execute_result"
    }
   ],
   "source": [
    "total = ['total',sum(anova['Sum of sqr']),sum(anova['Deg Fre'])]\n",
    "anova.loc[len(anova)] = total\n",
    "anova"
   ]
  },
  {
   "cell_type": "code",
   "execution_count": 44,
   "metadata": {},
   "outputs": [
    {
     "data": {
      "text/html": [
       "<div>\n",
       "<style scoped>\n",
       "    .dataframe tbody tr th:only-of-type {\n",
       "        vertical-align: middle;\n",
       "    }\n",
       "\n",
       "    .dataframe tbody tr th {\n",
       "        vertical-align: top;\n",
       "    }\n",
       "\n",
       "    .dataframe thead th {\n",
       "        text-align: right;\n",
       "    }\n",
       "</style>\n",
       "<table border=\"1\" class=\"dataframe\">\n",
       "  <thead>\n",
       "    <tr style=\"text-align: right;\">\n",
       "      <th></th>\n",
       "      <th>src of var</th>\n",
       "      <th>Sum of sqr</th>\n",
       "      <th>Deg Fre</th>\n",
       "      <th>Mean sos</th>\n",
       "      <th>Var Ratio</th>\n",
       "    </tr>\n",
       "  </thead>\n",
       "  <tbody>\n",
       "    <tr>\n",
       "      <th>0</th>\n",
       "      <td>Regression</td>\n",
       "      <td>178.839594</td>\n",
       "      <td>2</td>\n",
       "      <td>89.419797</td>\n",
       "      <td></td>\n",
       "    </tr>\n",
       "    <tr>\n",
       "      <th>1</th>\n",
       "      <td>Error</td>\n",
       "      <td>151.410406</td>\n",
       "      <td>9</td>\n",
       "      <td>16.823378</td>\n",
       "      <td>5.31521</td>\n",
       "    </tr>\n",
       "    <tr>\n",
       "      <th>2</th>\n",
       "      <td>total</td>\n",
       "      <td>330.250000</td>\n",
       "      <td>11</td>\n",
       "      <td>NaN</td>\n",
       "      <td></td>\n",
       "    </tr>\n",
       "  </tbody>\n",
       "</table>\n",
       "</div>"
      ],
      "text/plain": [
       "   src of var  Sum of sqr  Deg Fre   Mean sos Var Ratio\n",
       "0  Regression  178.839594        2  89.419797          \n",
       "1       Error  151.410406        9  16.823378   5.31521\n",
       "2       total  330.250000       11        NaN          "
      ]
     },
     "execution_count": 44,
     "metadata": {},
     "output_type": "execute_result"
    }
   ],
   "source": [
    "meanss = anova['Sum of sqr']/anova['Deg Fre']\n",
    "anova['Mean sos'] =meanss[:2]\n",
    "varRatio = anova['Mean sos'][0]/anova['Mean sos'][1]\n",
    "anova['Var Ratio'] = ['',varRatio,'']\n",
    "\n",
    "anova"
   ]
  },
  {
   "cell_type": "code",
   "execution_count": 59,
   "metadata": {},
   "outputs": [
    {
     "name": "stdout",
     "output_type": "stream",
     "text": [
      "The F calculated value is: 5.315210440935849\n",
      "-------------------------------------------------------------------------------------\n",
      "The F table value is: 4.25649472909375\n",
      "-------------------------------------------------------------------------------------\n",
      "We can say that:\n",
      "Model has contributing variables\n"
     ]
    }
   ],
   "source": [
    "Ftab = ss.f.ppf(1-los,anova['Deg Fre'][0],anova['Deg Fre'][1])\n",
    "Fcal = anova['Var Ratio'][1]\n",
    "print(f'The F calculated value is: {Fcal}')\n",
    "line()\n",
    "print(f'The F table value is: {Ftab}')\n",
    "line()\n",
    "print('We can say that:')\n",
    "if Ftab>Fcal:\n",
    "    print('The model has no contributing variables')\n",
    "else:\n",
    "    print('Model has contributing variables')"
   ]
  },
  {
   "cell_type": "markdown",
   "metadata": {},
   "source": [
    "<h3>Test of Individual Parameters</h3>"
   ]
  },
  {
   "cell_type": "code",
   "execution_count": 80,
   "metadata": {},
   "outputs": [
    {
     "data": {
      "text/html": [
       "<div>\n",
       "<style scoped>\n",
       "    .dataframe tbody tr th:only-of-type {\n",
       "        vertical-align: middle;\n",
       "    }\n",
       "\n",
       "    .dataframe tbody tr th {\n",
       "        vertical-align: top;\n",
       "    }\n",
       "\n",
       "    .dataframe thead th {\n",
       "        text-align: right;\n",
       "    }\n",
       "</style>\n",
       "<table border=\"1\" class=\"dataframe\">\n",
       "  <thead>\n",
       "    <tr style=\"text-align: right;\">\n",
       "      <th></th>\n",
       "      <th>predictors</th>\n",
       "      <th>co-efficients</th>\n",
       "      <th>standard error</th>\n",
       "    </tr>\n",
       "  </thead>\n",
       "  <tbody>\n",
       "    <tr>\n",
       "      <th>0</th>\n",
       "      <td>B0</td>\n",
       "      <td>133.460482</td>\n",
       "      <td>26.229411</td>\n",
       "    </tr>\n",
       "    <tr>\n",
       "      <th>1</th>\n",
       "      <td>B1</td>\n",
       "      <td>-1.248503</td>\n",
       "      <td>0.444634</td>\n",
       "    </tr>\n",
       "    <tr>\n",
       "      <th>2</th>\n",
       "      <td>B2</td>\n",
       "      <td>-0.351008</td>\n",
       "      <td>0.455165</td>\n",
       "    </tr>\n",
       "  </tbody>\n",
       "</table>\n",
       "</div>"
      ],
      "text/plain": [
       "  predictors  co-efficients  standard error\n",
       "0         B0     133.460482       26.229411\n",
       "1         B1      -1.248503        0.444634\n",
       "2         B2      -0.351008        0.455165"
      ]
     },
     "execution_count": 80,
     "metadata": {},
     "output_type": "execute_result"
    }
   ],
   "source": [
    "ms2e = anova['Mean sos'][1]\n",
    "\n",
    "val = {\n",
    "    'predictors':['B0','B1','B2'],\n",
    "    'co-efficients':[b[i][0] for i in range(len(b))],\n",
    "    'standard error':[math.sqrt(ms2e*i) for i in cjj],\n",
    "}\n",
    "T = pd.DataFrame(val)\n",
    "T"
   ]
  },
  {
   "cell_type": "code",
   "execution_count": 81,
   "metadata": {},
   "outputs": [
    {
     "data": {
      "text/html": [
       "<div>\n",
       "<style scoped>\n",
       "    .dataframe tbody tr th:only-of-type {\n",
       "        vertical-align: middle;\n",
       "    }\n",
       "\n",
       "    .dataframe tbody tr th {\n",
       "        vertical-align: top;\n",
       "    }\n",
       "\n",
       "    .dataframe thead th {\n",
       "        text-align: right;\n",
       "    }\n",
       "</style>\n",
       "<table border=\"1\" class=\"dataframe\">\n",
       "  <thead>\n",
       "    <tr style=\"text-align: right;\">\n",
       "      <th></th>\n",
       "      <th>predictors</th>\n",
       "      <th>co-efficients</th>\n",
       "      <th>standard error</th>\n",
       "      <th>t</th>\n",
       "    </tr>\n",
       "  </thead>\n",
       "  <tbody>\n",
       "    <tr>\n",
       "      <th>0</th>\n",
       "      <td>B0</td>\n",
       "      <td>133.460482</td>\n",
       "      <td>26.229411</td>\n",
       "      <td>5.088200</td>\n",
       "    </tr>\n",
       "    <tr>\n",
       "      <th>1</th>\n",
       "      <td>B1</td>\n",
       "      <td>-1.248503</td>\n",
       "      <td>0.444634</td>\n",
       "      <td>-2.807937</td>\n",
       "    </tr>\n",
       "    <tr>\n",
       "      <th>2</th>\n",
       "      <td>B2</td>\n",
       "      <td>-0.351008</td>\n",
       "      <td>0.455165</td>\n",
       "      <td>-0.771167</td>\n",
       "    </tr>\n",
       "  </tbody>\n",
       "</table>\n",
       "</div>"
      ],
      "text/plain": [
       "  predictors  co-efficients  standard error         t\n",
       "0         B0     133.460482       26.229411  5.088200\n",
       "1         B1      -1.248503        0.444634 -2.807937\n",
       "2         B2      -0.351008        0.455165 -0.771167"
      ]
     },
     "execution_count": 81,
     "metadata": {},
     "output_type": "execute_result"
    }
   ],
   "source": [
    "T['t'] = T['co-efficients']/T['standard error']\n",
    "T"
   ]
  },
  {
   "cell_type": "code",
   "execution_count": 90,
   "metadata": {},
   "outputs": [
    {
     "name": "stdout",
     "output_type": "stream",
     "text": [
      "The table value is 2.2621571627409915\n",
      "-------------------------------------------------------------------------------------\n",
      "B0 contributes to the model\n",
      "-------------------------------------------------------------------------------------\n",
      "B1 contributes to the model\n",
      "-------------------------------------------------------------------------------------\n",
      "B2 does not contributes to the model\n",
      "-------------------------------------------------------------------------------------\n"
     ]
    }
   ],
   "source": [
    "Ttab = ss.t.ppf(1-los/2,anova['Deg Fre'][1])\n",
    "print(f'The table value is {Ttab}')\n",
    "line()\n",
    "for i in range(len(T['t'])):\n",
    "    if abs(T['t'][i])>Ttab:\n",
    "        print(f'B{i} contributes to the model')\n",
    "    else:\n",
    "        print(f'B{i} does not contributes to the model')\n",
    "    line()"
   ]
  }
 ],
 "metadata": {
  "kernelspec": {
   "display_name": "Python 3.9.7 ('base')",
   "language": "python",
   "name": "python3"
  },
  "language_info": {
   "codemirror_mode": {
    "name": "ipython",
    "version": 3
   },
   "file_extension": ".py",
   "mimetype": "text/x-python",
   "name": "python",
   "nbconvert_exporter": "python",
   "pygments_lexer": "ipython3",
   "version": "3.9.7"
  },
  "orig_nbformat": 4,
  "vscode": {
   "interpreter": {
    "hash": "ad2bdc8ecc057115af97d19610ffacc2b4e99fae6737bb82f5d7fb13d2f2c186"
   }
  }
 },
 "nbformat": 4,
 "nbformat_minor": 2
}
