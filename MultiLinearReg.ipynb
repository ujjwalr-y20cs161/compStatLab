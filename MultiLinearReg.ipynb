{
 "cells": [
  {
   "cell_type": "code",
   "execution_count": 167,
   "metadata": {},
   "outputs": [],
   "source": [
    "def line():\n",
    "    print('-------------------------------------------------------------------------------------')"
   ]
  },
  {
   "cell_type": "markdown",
   "metadata": {},
   "source": [
    "<h1 style='color:cyan;'>Multi Linear Regression<h1>"
   ]
  },
  {
   "cell_type": "code",
   "execution_count": 112,
   "metadata": {},
   "outputs": [],
   "source": [
    "##Library\n",
    "import numpy as np"
   ]
  },
  {
   "cell_type": "code",
   "execution_count": 27,
   "metadata": {},
   "outputs": [],
   "source": [
    "#input cell\n",
    "\n",
    "y = np.array(list(map(int,input('enter y').split())))\n",
    "x1 = np.array(list(map(int,input('enter x1').split())))\n",
    "x2 = np.array(list(map(int,input('enter x2').split())))"
   ]
  },
  {
   "cell_type": "code",
   "execution_count": 115,
   "metadata": {},
   "outputs": [
    {
     "data": {
      "text/plain": [
       "(array([[ 1,  9, 62],\n",
       "        [ 1,  8, 58],\n",
       "        [ 1,  7, 64],\n",
       "        [ 1, 14, 60],\n",
       "        [ 1, 12, 63],\n",
       "        [ 1, 10, 57],\n",
       "        [ 1,  7, 55],\n",
       "        [ 1,  4, 56],\n",
       "        [ 1,  6, 59],\n",
       "        [ 1,  5, 61],\n",
       "        [ 1,  7, 57],\n",
       "        [ 1,  6, 60]]),\n",
       " array([[100],\n",
       "        [110],\n",
       "        [105],\n",
       "        [ 94],\n",
       "        [ 95],\n",
       "        [ 99],\n",
       "        [104],\n",
       "        [108],\n",
       "        [105],\n",
       "        [ 98],\n",
       "        [105],\n",
       "        [110]]),\n",
       " array([[ 1,  1,  1,  1,  1,  1,  1,  1,  1,  1,  1,  1],\n",
       "        [ 9,  8,  7, 14, 12, 10,  7,  4,  6,  5,  7,  6],\n",
       "        [62, 58, 64, 60, 63, 57, 55, 56, 59, 61, 57, 60]]))"
      ]
     },
     "execution_count": 115,
     "metadata": {},
     "output_type": "execute_result"
    }
   ],
   "source": [
    "x0 = np.ones(len(x1),int)\n",
    "xt = np.array([x0,x1,x2])\n",
    "x = xt.transpose()\n",
    "y = y.reshape([len(y),1])\n",
    "x, y, xt"
   ]
  },
  {
   "cell_type": "code",
   "execution_count": 121,
   "metadata": {},
   "outputs": [
    {
     "name": "stdout",
     "output_type": "stream",
     "text": [
      "[[133.46048243]\n",
      " [ -1.24850346]\n",
      " [ -0.35100837]]\n",
      "[133.46048243  -1.24850346  -0.35100837]\n"
     ]
    }
   ],
   "source": [
    "## b = ((xt*x)**-1)*(xt*y)\n",
    "## b1 = xt*x\n",
    "## b2 = xt*y \n",
    "## b1inv = inv(b1)\n",
    "\n",
    "\n",
    "b1 = np.dot(xt,x)\n",
    "b1inv = np.linalg.inv(b1)\n",
    "\n",
    "b2 = np.dot(xt,y)\n",
    "\n",
    "b = np.dot(b1inv,b2)\n",
    "print(b)\n",
    "ans = b.reshape([len(b)])\n",
    "print(ans)"
   ]
  },
  {
   "cell_type": "code",
   "execution_count": 133,
   "metadata": {},
   "outputs": [
    {
     "data": {
      "text/plain": [
       "array([[100.46143226],\n",
       "       [103.11396921],\n",
       "       [102.25642243],\n",
       "       [ 94.92093172],\n",
       "       [ 96.36491352],\n",
       "       [100.96797067],\n",
       "       [105.41549778],\n",
       "       [108.80999978],\n",
       "       [105.25996775],\n",
       "       [105.80645446],\n",
       "       [104.71348104],\n",
       "       [104.90895938]])"
      ]
     },
     "execution_count": 133,
     "metadata": {},
     "output_type": "execute_result"
    }
   ],
   "source": [
    "yExp = []\n",
    "\n",
    "for i,j in zip(x1,x2):\n",
    "    yExp.append((ans[0]+ans[1]*i+ans[2]*j))\n",
    "\n",
    "yExp = np.array(yExp)\n",
    "yExp = yExp.reshape([len(yExp),1])\n",
    "yExp"
   ]
  },
  {
   "cell_type": "code",
   "execution_count": 134,
   "metadata": {},
   "outputs": [
    {
     "name": "stdout",
     "output_type": "stream",
     "text": [
      "[[-0.46143226]\n",
      " [ 6.88603079]\n",
      " [ 2.74357757]\n",
      " [-0.92093172]\n",
      " [-1.36491352]\n",
      " [-1.96797067]\n",
      " [-1.41549778]\n",
      " [-0.80999978]\n",
      " [-0.25996775]\n",
      " [-7.80645446]\n",
      " [ 0.28651896]\n",
      " [ 5.09104062]]\n"
     ]
    }
   ],
   "source": [
    "epsil = y - yExp\n",
    "print(epsil)"
   ]
  },
  {
   "cell_type": "code",
   "execution_count": 139,
   "metadata": {},
   "outputs": [
    {
     "data": {
      "text/plain": [
       "102.75"
      ]
     },
     "execution_count": 139,
     "metadata": {},
     "output_type": "execute_result"
    }
   ],
   "source": [
    "ybar = np.mean(y)\n",
    "ybar"
   ]
  },
  {
   "cell_type": "code",
   "execution_count": 155,
   "metadata": {},
   "outputs": [
    {
     "data": {
      "text/plain": [
       "(151.41040622031764, 178.83959377968236, 330.25)"
      ]
     },
     "execution_count": 155,
     "metadata": {},
     "output_type": "execute_result"
    }
   ],
   "source": [
    "sst = sum((y-ybar)**2)[0]\n",
    "sse = sum(epsil**2)[0]\n",
    "ssr = sst-sse\n",
    "\n",
    "sse,ssr,sst"
   ]
  },
  {
   "cell_type": "code",
   "execution_count": 143,
   "metadata": {},
   "outputs": [
    {
     "data": {
      "text/plain": [
       "0.5415279145486218"
      ]
     },
     "execution_count": 143,
     "metadata": {},
     "output_type": "execute_result"
    }
   ],
   "source": [
    "R2 = ssr/sst\n",
    "R2"
   ]
  },
  {
   "cell_type": "code",
   "execution_count": 170,
   "metadata": {},
   "outputs": [
    {
     "name": "stdout",
     "output_type": "stream",
     "text": [
      "The model is : y = 133.46048242804682+(-1.2485034569591562)*x1+(-0.351008371805392)*x2\n",
      "-------------------------------------------------------------------------------------\n",
      "    x1  x2  observed y  expected y     error\n",
      "0    9  62         100  100.461432 -0.461432\n",
      "1    8  58         110  103.113969  6.886031\n",
      "2    7  64         105  102.256422  2.743578\n",
      "3   14  60          94   94.920932 -0.920932\n",
      "4   12  63          95   96.364914 -1.364914\n",
      "5   10  57          99  100.967971 -1.967971\n",
      "6    7  55         104  105.415498 -1.415498\n",
      "7    4  56         108  108.810000 -0.810000\n",
      "8    6  59         105  105.259968 -0.259968\n",
      "9    5  61          98  105.806454 -7.806454\n",
      "10   7  57         105  104.713481  0.286519\n",
      "11   6  60         110  104.908959  5.091041\n",
      "-------------------------------------------------------------------------------------\n",
      "mean sum of squares due to \n",
      " -->regression 178.83959377968236\n",
      " -->total 330.25 \n",
      " -->error 151.41040622031764\n",
      "-------------------------------------------------------------------------------------\n",
      "The coefficient of Determination is R2 : 0.5415279145486218\n",
      "-------------------------------------------------------------------------------------\n",
      "As R2 is less than 0.9, the model is not a goodfit\n"
     ]
    }
   ],
   "source": [
    "import pandas as pd\n",
    "val={\n",
    "    'x1':x1,\n",
    "    'x2':x2,\n",
    "    'observed y':y.transpose()[0],\n",
    "    'expected y':yExp.transpose()[0],\n",
    "    'error':epsil.transpose()[0]\n",
    "}\n",
    "print(f'The model is : y = {ans[0]}+({ans[1]})*x1+({ans[2]})*x2')\n",
    "line()\n",
    "df = pd.DataFrame(val)\n",
    "print(df)\n",
    "line()\n",
    "print(f'mean sum of squares due to \\n -->regression {ssr}\\n -->total {sst} \\n -->error {sse}')\n",
    "line()\n",
    "print(f'The coefficient of Determination is R2 : {R2}')\n",
    "line()\n",
    "if(R2>0.9):\n",
    "    print('As R2 is greater than 0.9, the model is a goodfit')\n",
    "else:\n",
    "    print('As R2 is less than 0.9, the model is not a goodfit')"
   ]
  },
  {
   "cell_type": "code",
   "execution_count": 173,
   "metadata": {},
   "outputs": [
    {
     "data": {
      "text/plain": [
       "{'p-1': 2, 'n-1': 11, 'n-p': 9}"
      ]
     },
     "execution_count": 173,
     "metadata": {},
     "output_type": "execute_result"
    }
   ],
   "source": [
    "##ANOVA test\n",
    "\n",
    "# h0 : bj = 0\n",
    "# h1 : bj != 0\n",
    "# los = 0.05\n",
    "\n",
    "degFre = {\n",
    "    # number of variable - 1 =  \n",
    "    'p-1':3-1,\n",
    "    # number of observation  - 1 =  \n",
    "    'n-1':len(y)-1,\n",
    "    # n-p\n",
    "    'n-p':len(y)-3\n",
    "}\n",
    "\n",
    "degFre\n",
    "\n",
    "\n",
    "\n"
   ]
  },
  {
   "cell_type": "code",
   "execution_count": 175,
   "metadata": {},
   "outputs": [
    {
     "data": {
      "text/html": [
       "<div>\n",
       "<style scoped>\n",
       "    .dataframe tbody tr th:only-of-type {\n",
       "        vertical-align: middle;\n",
       "    }\n",
       "\n",
       "    .dataframe tbody tr th {\n",
       "        vertical-align: top;\n",
       "    }\n",
       "\n",
       "    .dataframe thead th {\n",
       "        text-align: right;\n",
       "    }\n",
       "</style>\n",
       "<table border=\"1\" class=\"dataframe\">\n",
       "  <thead>\n",
       "    <tr style=\"text-align: right;\">\n",
       "      <th></th>\n",
       "      <th>src of var</th>\n",
       "      <th>Sum of sqr</th>\n",
       "      <th>Deg Fre</th>\n",
       "    </tr>\n",
       "  </thead>\n",
       "  <tbody>\n",
       "    <tr>\n",
       "      <th>0</th>\n",
       "      <td>Regression</td>\n",
       "      <td>178.839594</td>\n",
       "      <td>2</td>\n",
       "    </tr>\n",
       "    <tr>\n",
       "      <th>1</th>\n",
       "      <td>Error</td>\n",
       "      <td>151.410406</td>\n",
       "      <td>9</td>\n",
       "    </tr>\n",
       "  </tbody>\n",
       "</table>\n",
       "</div>"
      ],
      "text/plain": [
       "   src of var  Sum of sqr  Deg Fre\n",
       "0  Regression  178.839594        2\n",
       "1       Error  151.410406        9"
      ]
     },
     "execution_count": 175,
     "metadata": {},
     "output_type": "execute_result"
    }
   ],
   "source": [
    "val = {\n",
    "    'src of var' : ['Regression','Error'],\n",
    "    'Sum of sqr' : [ssr,sse],\n",
    "    'Deg Fre'     : [degFre['p-1'],degFre['n-p']],\n",
    "}\n",
    "\n",
    "anova = pd.DataFrame(val)\n",
    "anova"
   ]
  },
  {
   "cell_type": "code",
   "execution_count": 178,
   "metadata": {},
   "outputs": [
    {
     "data": {
      "text/html": [
       "<div>\n",
       "<style scoped>\n",
       "    .dataframe tbody tr th:only-of-type {\n",
       "        vertical-align: middle;\n",
       "    }\n",
       "\n",
       "    .dataframe tbody tr th {\n",
       "        vertical-align: top;\n",
       "    }\n",
       "\n",
       "    .dataframe thead th {\n",
       "        text-align: right;\n",
       "    }\n",
       "</style>\n",
       "<table border=\"1\" class=\"dataframe\">\n",
       "  <thead>\n",
       "    <tr style=\"text-align: right;\">\n",
       "      <th></th>\n",
       "      <th>src of var</th>\n",
       "      <th>Sum of sqr</th>\n",
       "      <th>Deg Fre</th>\n",
       "    </tr>\n",
       "  </thead>\n",
       "  <tbody>\n",
       "    <tr>\n",
       "      <th>0</th>\n",
       "      <td>Regression</td>\n",
       "      <td>178.839594</td>\n",
       "      <td>2</td>\n",
       "    </tr>\n",
       "    <tr>\n",
       "      <th>1</th>\n",
       "      <td>Error</td>\n",
       "      <td>151.410406</td>\n",
       "      <td>9</td>\n",
       "    </tr>\n",
       "    <tr>\n",
       "      <th>2</th>\n",
       "      <td>total</td>\n",
       "      <td>330.250000</td>\n",
       "      <td>11</td>\n",
       "    </tr>\n",
       "  </tbody>\n",
       "</table>\n",
       "</div>"
      ],
      "text/plain": [
       "   src of var  Sum of sqr  Deg Fre\n",
       "0  Regression  178.839594        2\n",
       "1       Error  151.410406        9\n",
       "2       total  330.250000       11"
      ]
     },
     "execution_count": 178,
     "metadata": {},
     "output_type": "execute_result"
    }
   ],
   "source": [
    "total = ['total',sum(anova['Sum of sqr']),sum(anova['Deg Fre'])]\n",
    "anova.loc[len(anova)] = total\n",
    "anova"
   ]
  },
  {
   "cell_type": "code",
   "execution_count": null,
   "metadata": {},
   "outputs": [],
   "source": [
    "meanss = "
   ]
  }
 ],
 "metadata": {
  "kernelspec": {
   "display_name": "Python 3.9.7 ('base')",
   "language": "python",
   "name": "python3"
  },
  "language_info": {
   "codemirror_mode": {
    "name": "ipython",
    "version": 3
   },
   "file_extension": ".py",
   "mimetype": "text/x-python",
   "name": "python",
   "nbconvert_exporter": "python",
   "pygments_lexer": "ipython3",
   "version": "3.9.7"
  },
  "orig_nbformat": 4,
  "vscode": {
   "interpreter": {
    "hash": "ad2bdc8ecc057115af97d19610ffacc2b4e99fae6737bb82f5d7fb13d2f2c186"
   }
  }
 },
 "nbformat": 4,
 "nbformat_minor": 2
}
