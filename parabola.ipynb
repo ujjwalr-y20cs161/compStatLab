{
 "cells": [
  {
   "cell_type": "code",
   "execution_count": 19,
   "metadata": {},
   "outputs": [],
   "source": [
    "import numpy as np"
   ]
  },
  {
   "cell_type": "code",
   "execution_count": 20,
   "metadata": {},
   "outputs": [],
   "source": [
    "x = np.array(list(map(float,input().split())))\n",
    "y = np.array(list(map(float,input().split())))"
   ]
  },
  {
   "cell_type": "code",
   "execution_count": 22,
   "metadata": {},
   "outputs": [
    {
     "data": {
      "text/plain": [
       "(array([0., 1., 2., 3., 4.]), array([1. , 1.8, 1.3, 2.5, 6.3]))"
      ]
     },
     "execution_count": 22,
     "metadata": {},
     "output_type": "execute_result"
    }
   ],
   "source": [
    "x,y"
   ]
  },
  {
   "cell_type": "code",
   "execution_count": 24,
   "metadata": {},
   "outputs": [
    {
     "data": {
      "text/plain": [
       "(array([ 0. ,  1.8,  2.6,  7.5, 25.2]),\n",
       " array([ 0.,  1.,  4.,  9., 16.]),\n",
       " array([ 0.,  1.,  8., 27., 64.]),\n",
       " array([  0.,   1.,  16.,  81., 256.]),\n",
       " array([  0. ,   1.8,   5.2,  22.5, 100.8]))"
      ]
     },
     "execution_count": 24,
     "metadata": {},
     "output_type": "execute_result"
    }
   ],
   "source": [
    "xy = x*y\n",
    "x2 = x**2\n",
    "x3 = x**3\n",
    "x4 = x**4\n",
    "x2y = (x**2 )*y\n",
    "\n",
    "\n",
    "xy,x2,x3,x4,x2y"
   ]
  },
  {
   "cell_type": "code",
   "execution_count": 26,
   "metadata": {},
   "outputs": [
    {
     "data": {
      "text/plain": [
       "(10.0, 12.899999999999999, 37.1, 30.0, 100.0, 354.0, 130.3)"
      ]
     },
     "execution_count": 26,
     "metadata": {},
     "output_type": "execute_result"
    }
   ],
   "source": [
    "tx = sum(x)\n",
    "ty = sum(y)\n",
    "txy = sum(xy)\n",
    "tx2 = sum(x2)\n",
    "tx3 = sum(x3)\n",
    "tx4 = sum(x4)\n",
    "tx2y = sum(x2y)\n",
    "\n",
    "tx,ty,txy,tx2,tx3,tx4,tx2y"
   ]
  },
  {
   "cell_type": "code",
   "execution_count": 28,
   "metadata": {},
   "outputs": [
    {
     "data": {
      "text/plain": [
       "5"
      ]
     },
     "execution_count": 28,
     "metadata": {},
     "output_type": "execute_result"
    }
   ],
   "source": [
    "n = len(x)\n",
    "n"
   ]
  },
  {
   "cell_type": "code",
   "execution_count": 41,
   "metadata": {},
   "outputs": [
    {
     "data": {
      "text/plain": [
       "(array([[  5.,  10.,  30.],\n",
       "        [ 10.,  30., 100.],\n",
       "        [ 30., 100., 354.]]),\n",
       " array([ 12.9,  37.1, 130.3]))"
      ]
     },
     "execution_count": 41,
     "metadata": {},
     "output_type": "execute_result"
    }
   ],
   "source": [
    "m = [[n,tx,tx2],[tx,tx2,tx3],[tx2,tx3,tx4]]\n",
    "p = [ty,txy,tx2y]\n",
    "\n",
    "m = np.array(m)\n",
    "p = np.array(p)\n",
    "\n",
    "m,p"
   ]
  },
  {
   "cell_type": "code",
   "execution_count": 42,
   "metadata": {},
   "outputs": [],
   "source": [
    "def copycol(m,p,i):\n",
    "    n = np.copy(m)\n",
    "    n[:,i] = p\n",
    "    return n\n"
   ]
  },
  {
   "cell_type": "code",
   "execution_count": 43,
   "metadata": {},
   "outputs": [
    {
     "data": {
      "text/plain": [
       "array([[ 12.9,  10. ,  30. ],\n",
       "       [ 37.1,  30. , 100. ],\n",
       "       [130.3, 100. , 354. ]])"
      ]
     },
     "execution_count": 43,
     "metadata": {},
     "output_type": "execute_result"
    }
   ],
   "source": [
    "copycol(m,p,0)"
   ]
  },
  {
   "cell_type": "code",
   "execution_count": 46,
   "metadata": {},
   "outputs": [
    {
     "data": {
      "text/plain": [
       "(1.42, -1.07, 0.55)"
      ]
     },
     "execution_count": 46,
     "metadata": {},
     "output_type": "execute_result"
    }
   ],
   "source": [
    "from numpy.linalg import det\n",
    "\n",
    "d = det(m)\n",
    "\n",
    "m1 = copycol(m,p,0)\n",
    "m2 = copycol(m,p,1)\n",
    "m3 = copycol(m,p,2)\n",
    "\n",
    "a,b,c = det(m1)/d,det(m2)/d,det(m3)/d\n",
    "\n",
    "a,b,c = round(a,3),round(b,3),round(c,3)\n",
    "\n",
    "a,b,c"
   ]
  }
 ],
 "metadata": {
  "kernelspec": {
   "display_name": "Python 3.9.5 64-bit",
   "language": "python",
   "name": "python3"
  },
  "language_info": {
   "codemirror_mode": {
    "name": "ipython",
    "version": 3
   },
   "file_extension": ".py",
   "mimetype": "text/x-python",
   "name": "python",
   "nbconvert_exporter": "python",
   "pygments_lexer": "ipython3",
   "version": "3.9.5"
  },
  "orig_nbformat": 4,
  "vscode": {
   "interpreter": {
    "hash": "81794d4967e6c3204c66dcd87b604927b115b27c00565d3d43f05ba2f3a2cb0d"
   }
  }
 },
 "nbformat": 4,
 "nbformat_minor": 2
}
