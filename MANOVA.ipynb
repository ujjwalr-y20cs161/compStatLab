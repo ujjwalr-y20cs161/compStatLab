{
 "cells": [
  {
   "cell_type": "code",
   "execution_count": 165,
   "metadata": {},
   "outputs": [
    {
     "name": "stdout",
     "output_type": "stream",
     "text": [
      "hello world\n"
     ]
    }
   ],
   "source": [
    "print('hello world')"
   ]
  },
  {
   "cell_type": "code",
   "execution_count": 166,
   "metadata": {},
   "outputs": [],
   "source": [
    "#manova one way construction"
   ]
  },
  {
   "cell_type": "code",
   "execution_count": 167,
   "metadata": {},
   "outputs": [],
   "source": [
    "import numpy as np\n",
    "from math import prod,sqrt\n",
    "from statistics import mean\n",
    "from numpy.linalg import det\n",
    "import scipy.stats as ss\n"
   ]
  },
  {
   "cell_type": "code",
   "execution_count": 168,
   "metadata": {},
   "outputs": [
    {
     "name": "stdout",
     "output_type": "stream",
     "text": [
      "[[[2, 3], [3, 4], [5, 4], [2, 5]], [[4, 8], [5, 6], [6, 7]], [[7, 6], [8, 7], [10, 8], [9, 5], [7, 6]]]\n",
      "n: 12 :: k: 3 :: p:2\n"
     ]
    }
   ],
   "source": [
    "k = int(input(\"Total number of treatments\"))\n",
    "los = 0.05\n",
    "n = 0\n",
    "Tr = []\n",
    "for i in range(k):\n",
    "    T1 = []\n",
    "    nSub = int(input(f'Number of Sub treatments of Tr {i+1}:'))\n",
    "    n += nSub\n",
    "    for j in range(nSub):\n",
    "        l = list(map(int,input('Enter Sub groups:').split()))\n",
    "        T1.append(l)\n",
    "    Tr.append(T1)\n",
    "    p = len(T1[0])\n",
    "\n",
    "\n",
    "print(Tr)\n",
    "print(f'n: {n} :: k: {k} :: p:{p}')"
   ]
  },
  {
   "cell_type": "code",
   "execution_count": 169,
   "metadata": {},
   "outputs": [
    {
     "name": "stdout",
     "output_type": "stream",
     "text": [
      "[[6, 12, 20, 10], [32, 30, 42], [42, 56, 80, 45, 42]]\n"
     ]
    }
   ],
   "source": [
    "cr = []\n",
    "for i in Tr:\n",
    "    cri = []\n",
    "    for j in i:\n",
    "        cri.append(prod(j))\n",
    "    cr.append(cri)\n",
    "print(cr)"
   ]
  },
  {
   "cell_type": "code",
   "execution_count": 170,
   "metadata": {},
   "outputs": [
    {
     "name": "stdout",
     "output_type": "stream",
     "text": [
      "[5.666666666666667, 5.75]\n",
      "32.583333333333336\n"
     ]
    }
   ],
   "source": [
    "y__ = []\n",
    "\n",
    "for x in range(p):\n",
    "    v = 0\n",
    "    mm = 0\n",
    "    for i in Tr:\n",
    "        mi = []\n",
    "        for j in i:\n",
    "            mm+=j[x]\n",
    "            v+=1\n",
    "    y__.append(mm/v)\n",
    "print(y__)\n",
    "\n",
    "M__ = prod(y__)\n",
    "print(M__)"
   ]
  },
  {
   "cell_type": "code",
   "execution_count": 171,
   "metadata": {},
   "outputs": [
    {
     "name": "stdout",
     "output_type": "stream",
     "text": [
      "[[3.0, 4.0], [5.0, 7.0], [8.2, 6.4]]\n",
      "[12.0, 35.0, 52.48]\n"
     ]
    }
   ],
   "source": [
    "yi = []\n",
    "for i in Tr:\n",
    "    yii = []\n",
    "    for x in range(p):\n",
    "        yiii = 0\n",
    "        c = 0\n",
    "        for j in i:\n",
    "            # print(j[x])\n",
    "            c+=1\n",
    "            yiii+=j[x]\n",
    "        yii.append(yiii/c)\n",
    "        # print('##')\n",
    "    # print(yii)\n",
    "    yi.append(yii)\n",
    "    # print('>>')\n",
    "print(yi)\n",
    "\n",
    "\n",
    "M = []\n",
    "for i in yi:\n",
    "    M.append(prod(i))\n",
    "print(M)"
   ]
  },
  {
   "cell_type": "code",
   "execution_count": 182,
   "metadata": {},
   "outputs": [
    {
     "name": "stdout",
     "output_type": "stream",
     "text": [
      "[14.799999999999997, 9.2]\n",
      "6 12.0\n",
      "12 12.0\n",
      "20 12.0\n",
      "10 12.0\n",
      "32 35.0\n",
      "30 35.0\n",
      "42 35.0\n",
      "42 52.48\n",
      "56 52.48\n",
      "80 52.48\n",
      "45 52.48\n",
      "42 52.48\n",
      "[14.799999999999997, 9.2, 1.6000000000000156]\n"
     ]
    }
   ],
   "source": [
    "##SSE\n",
    "SSE = []\n",
    "for x in range(p):\n",
    "    SSEi = 0\n",
    "    for i in range(len(Tr)):\n",
    "        for j in range(len(Tr[i])):\n",
    "            SSEi+=(Tr[i][j][x]-yi[i][x])**2\n",
    "            # print(Tr[i][j][x],'-',yi[i][x])\n",
    "    SSE.append(SSEi)\n",
    "print(SSE)\n",
    "\n",
    "SSEc = 0\n",
    "for i in range(len(cr)):\n",
    "    for j in range(len(cr[i])):\n",
    "        print(cr[i][j],M[i])\n",
    "        SSEc+=(cr[i][j]-M[i])\n",
    "SSE.append(SSEc)\n",
    "\n",
    "print(SSE)\n"
   ]
  },
  {
   "cell_type": "code",
   "execution_count": 183,
   "metadata": {},
   "outputs": [
    {
     "name": "stdout",
     "output_type": "stream",
     "text": [
      "[76.66666666666667, 28.25]\n",
      "[76.66666666666667, 28.25, 25.999999999999943]\n"
     ]
    }
   ],
   "source": [
    "##SST\n",
    "SST = []\n",
    "for x in range(p):\n",
    "    SSTi = 0\n",
    "    for i in range(len(Tr)):\n",
    "        for j in range(len(Tr[i])):\n",
    "            SSTi+=(Tr[i][j][x]-y__[x])**2\n",
    "            # print(Tr[i][j][x],'-',y__[x])\n",
    "    SST.append(SSTi)\n",
    "print(SST)\n",
    "\n",
    "SSTc = 0\n",
    "for i in range(len(cr)):\n",
    "    for j in range(len(cr[i])):\n",
    "        # print(cr[i][j],M[i])\n",
    "        SSTc+=(cr[i][j]-M__)\n",
    "SST.append(SSTc)\n",
    "\n",
    "print(SST)\n"
   ]
  },
  {
   "cell_type": "code",
   "execution_count": 184,
   "metadata": {},
   "outputs": [
    {
     "name": "stdout",
     "output_type": "stream",
     "text": [
      "[61.866666666666674, 19.05, 24.399999999999928]\n"
     ]
    }
   ],
   "source": [
    "SSR = []\n",
    "for i,j in zip(SST,SSE):\n",
    "    SSR.append(i-j)\n",
    "print(SSR)"
   ]
  },
  {
   "cell_type": "code",
   "execution_count": 185,
   "metadata": {},
   "outputs": [],
   "source": [
    "srcvar = [SSR,SSE,SST]\n",
    "sos = [0,0,0]\n",
    "degFre = [k-1,n-k,n-1]"
   ]
  },
  {
   "cell_type": "code",
   "execution_count": 186,
   "metadata": {},
   "outputs": [
    {
     "name": "stdout",
     "output_type": "stream",
     "text": [
      "[[61.86666667 24.4       ]\n",
      " [24.4        19.05      ]]\n",
      "[[14.8  1.6]\n",
      " [ 1.6  9.2]]\n",
      "[[76.66666667 26.        ]\n",
      " [26.         28.25      ]]\n"
     ]
    }
   ],
   "source": [
    "for i in range(len(srcvar)):\n",
    "    sos[i]= (np.array([[srcvar[i][0],srcvar[i][2]],[srcvar[i][2],srcvar[i][1]]]))\n",
    "\n",
    "B = sos[0]\n",
    "W = sos[1]\n",
    "T = sos[2]\n",
    "print(B,W,T,sep='\\n')"
   ]
  },
  {
   "cell_type": "code",
   "execution_count": 187,
   "metadata": {},
   "outputs": [
    {
     "name": "stdout",
     "output_type": "stream",
     "text": [
      "Fcalualated: 9.357513005519221\n"
     ]
    }
   ],
   "source": [
    "A = det(W)/det(T)\n",
    "Fcal = ((n-k-1)*(1-sqrt(A)))/((k-1)*(sqrt(A)))\n",
    "print(f'Fcalualated: {Fcal}')"
   ]
  },
  {
   "cell_type": "code",
   "execution_count": 188,
   "metadata": {},
   "outputs": [
    {
     "name": "stdout",
     "output_type": "stream",
     "text": [
      "Ftable: 3.0069172799243438\n"
     ]
    }
   ],
   "source": [
    "Ftab = ss.f.ppf(1-los,p*(k-1),p*(n-k-1))\n",
    "print(f'Ftable: {Ftab}')"
   ]
  },
  {
   "cell_type": "code",
   "execution_count": 189,
   "metadata": {},
   "outputs": [
    {
     "name": "stdout",
     "output_type": "stream",
     "text": [
      "We Reject H0\n"
     ]
    }
   ],
   "source": [
    "if Ftab<Fcal:\n",
    "    print('We Reject H0')\n",
    "else:\n",
    "    print('We accept H0')"
   ]
  }
 ],
 "metadata": {
  "kernelspec": {
   "display_name": "Python 3.9.7 ('base')",
   "language": "python",
   "name": "python3"
  },
  "language_info": {
   "codemirror_mode": {
    "name": "ipython",
    "version": 3
   },
   "file_extension": ".py",
   "mimetype": "text/x-python",
   "name": "python",
   "nbconvert_exporter": "python",
   "pygments_lexer": "ipython3",
   "version": "3.9.7"
  },
  "orig_nbformat": 4,
  "vscode": {
   "interpreter": {
    "hash": "ad2bdc8ecc057115af97d19610ffacc2b4e99fae6737bb82f5d7fb13d2f2c186"
   }
  }
 },
 "nbformat": 4,
 "nbformat_minor": 2
}
