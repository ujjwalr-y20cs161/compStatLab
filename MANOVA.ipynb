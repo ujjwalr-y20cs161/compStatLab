{
 "cells": [
  {
   "cell_type": "code",
   "execution_count": 1,
   "metadata": {},
   "outputs": [
    {
     "name": "stdout",
     "output_type": "stream",
     "text": [
      "hello world\n"
     ]
    }
   ],
   "source": [
    "print('hello world')"
   ]
  },
  {
   "cell_type": "code",
   "execution_count": null,
   "metadata": {},
   "outputs": [],
   "source": [
    "#manova one way construction"
   ]
  },
  {
   "cell_type": "code",
   "execution_count": 158,
   "metadata": {},
   "outputs": [],
   "source": [
    "import numpy as np\n",
    "from math import prod,sqrt\n",
    "from statistics import mean\n",
    "from numpy.linalg import det\n",
    "import scipy.stats as ss\n"
   ]
  },
  {
   "cell_type": "code",
   "execution_count": 39,
   "metadata": {},
   "outputs": [
    {
     "name": "stdout",
     "output_type": "stream",
     "text": [
      "[[[9, 3], [6, 2], [9, 7]], [[0, 4], [2, 0]], [[3, 8], [1, 9], [2, 7]]]\n",
      "n: 8 :: k: 3 :: p:2\n"
     ]
    }
   ],
   "source": [
    "k = int(input(\"Total number of treatments\"))\n",
    "los = 0.05\n",
    "n = 0\n",
    "Tr = []\n",
    "for i in range(k):\n",
    "    T1 = []\n",
    "    nSub = int(input(f'Number of Sub treatments of Tr {i+1}:'))\n",
    "    n += nSub\n",
    "    for j in range(nSub):\n",
    "        l = list(map(int,input('Enter Sub groups:').split()))\n",
    "        T1.append(l)\n",
    "    Tr.append(T1)\n",
    "    p = len(T1[0])\n",
    "\n",
    "\n",
    "print(Tr)\n",
    "print(f'n: {n} :: k: {k} :: p:{p}')"
   ]
  },
  {
   "cell_type": "code",
   "execution_count": 160,
   "metadata": {},
   "outputs": [
    {
     "name": "stdout",
     "output_type": "stream",
     "text": [
      "[[27, 12, 63], [0, 0], [24, 9, 14]]\n"
     ]
    }
   ],
   "source": [
    "cr = []\n",
    "for i in Tr:\n",
    "    cri = []\n",
    "    for j in i:\n",
    "        cri.append(prod(j))\n",
    "    cr.append(cri)\n",
    "print(cr)"
   ]
  },
  {
   "cell_type": "code",
   "execution_count": 105,
   "metadata": {},
   "outputs": [
    {
     "name": "stdout",
     "output_type": "stream",
     "text": [
      "[4.0, 5.0]\n",
      "20.0\n"
     ]
    }
   ],
   "source": [
    "y__ = []\n",
    "\n",
    "for x in range(p):\n",
    "    v = 0\n",
    "    mm = 0\n",
    "    for i in Tr:\n",
    "        mi = []\n",
    "        for j in i:\n",
    "            mm+=j[x]\n",
    "            v+=1\n",
    "    y__.append(mm/v)\n",
    "print(y__)\n",
    "\n",
    "M__ = prod(y__)\n",
    "print(M__)"
   ]
  },
  {
   "cell_type": "code",
   "execution_count": 110,
   "metadata": {},
   "outputs": [
    {
     "name": "stdout",
     "output_type": "stream",
     "text": [
      "[[8.0, 4.0], [1.0, 2.0], [2.0, 8.0]]\n",
      "[32.0, 2.0, 16.0]\n"
     ]
    }
   ],
   "source": [
    "yi = []\n",
    "for i in Tr:\n",
    "    yii = []\n",
    "    for x in range(p):\n",
    "        yiii = 0\n",
    "        c = 0\n",
    "        for j in i:\n",
    "            # print(j[x])\n",
    "            c+=1\n",
    "            yiii+=j[x]\n",
    "        yii.append(yiii/c)\n",
    "        # print('##')\n",
    "    # print(yii)\n",
    "    yi.append(yii)\n",
    "    # print('>>')\n",
    "print(yi)\n",
    "\n",
    "\n",
    "M = []\n",
    "for i in yi:\n",
    "    M.append(prod(i))\n",
    "print(M)"
   ]
  },
  {
   "cell_type": "code",
   "execution_count": 119,
   "metadata": {},
   "outputs": [
    {
     "name": "stdout",
     "output_type": "stream",
     "text": [
      "[10.0, 24.0]\n",
      "[10.0, 24.0, 1.0]\n"
     ]
    }
   ],
   "source": [
    "##SSE\n",
    "SSE = []\n",
    "for x in range(p):\n",
    "    SSEi = 0\n",
    "    for i in range(len(Tr)):\n",
    "        for j in range(len(Tr[i])):\n",
    "            SSEi+=(Tr[i][j][x]-yi[i][x])**2\n",
    "            # print(Tr[i][j][x],'-',yi[i][x])\n",
    "    SSE.append(SSEi)\n",
    "print(SSE)\n",
    "\n",
    "SSEc = 0\n",
    "for i in range(len(cr)):\n",
    "    for j in range(len(cr[i])):\n",
    "        # print(cr[i][j],M[i])\n",
    "        SSEc+=(cr[i][j]-M[i])\n",
    "SSE.append(SSEc)\n",
    "\n",
    "print(SSE)\n"
   ]
  },
  {
   "cell_type": "code",
   "execution_count": 118,
   "metadata": {},
   "outputs": [
    {
     "name": "stdout",
     "output_type": "stream",
     "text": [
      "[88.0, 72.0]\n",
      "[88.0, 72.0, -11.0]\n"
     ]
    }
   ],
   "source": [
    "##SST\n",
    "SST = []\n",
    "for x in range(p):\n",
    "    SSTi = 0\n",
    "    for i in range(len(Tr)):\n",
    "        for j in range(len(Tr[i])):\n",
    "            SSTi+=(Tr[i][j][x]-y__[x])**2\n",
    "            # print(Tr[i][j][x],'-',y__[x])\n",
    "    SST.append(SSTi)\n",
    "print(SST)\n",
    "\n",
    "SSTc = 0\n",
    "for i in range(len(cr)):\n",
    "    for j in range(len(cr[i])):\n",
    "        # print(cr[i][j],M[i])\n",
    "        SSTc+=(cr[i][j]-M__)\n",
    "SST.append(SSTc)\n",
    "\n",
    "print(SST)\n"
   ]
  },
  {
   "cell_type": "code",
   "execution_count": 120,
   "metadata": {},
   "outputs": [
    {
     "name": "stdout",
     "output_type": "stream",
     "text": [
      "[78.0, 48.0, -12.0]\n"
     ]
    }
   ],
   "source": [
    "SSR = []\n",
    "for i,j in zip(SST,SSE):\n",
    "    SSR.append(i-j)\n",
    "print(SSR)"
   ]
  },
  {
   "cell_type": "code",
   "execution_count": 141,
   "metadata": {},
   "outputs": [],
   "source": [
    "srcvar = [SSR,SSE,SST]\n",
    "sos = [0,0,0]\n",
    "degFre = [k-1,n-k,n-1]"
   ]
  },
  {
   "cell_type": "code",
   "execution_count": 142,
   "metadata": {},
   "outputs": [
    {
     "name": "stdout",
     "output_type": "stream",
     "text": [
      "[[ 78 -12]\n",
      " [-12  48]]\n",
      "[[10  1]\n",
      " [ 1 24]]\n",
      "[[ 88 -11]\n",
      " [-11  72]]\n"
     ]
    }
   ],
   "source": [
    "for i in range(len(srcvar)):\n",
    "    sos[i]= (np.array([[srcvar[i][0],srcvar[i][2]],[srcvar[i][2],srcvar[i][1]]],dtype=int))\n",
    "\n",
    "B = sos[0]\n",
    "W = sos[1]\n",
    "T = sos[2]\n",
    "print(B,W,T,sep='\\n')"
   ]
  },
  {
   "cell_type": "code",
   "execution_count": 163,
   "metadata": {},
   "outputs": [
    {
     "name": "stdout",
     "output_type": "stream",
     "text": [
      "Fcalualated: 8.198859563778381\n"
     ]
    }
   ],
   "source": [
    "A = det(W)/det(T)\n",
    "Fcal = ((n-k-1)*(1-sqrt(A)))/((k-1)*(sqrt(A)))\n",
    "print(f'Fcalualated: {Fcal}')"
   ]
  },
  {
   "cell_type": "code",
   "execution_count": 162,
   "metadata": {},
   "outputs": [
    {
     "name": "stdout",
     "output_type": "stream",
     "text": [
      "Ftable: 3.837853354555897\n"
     ]
    }
   ],
   "source": [
    "Ftab = ss.f.ppf(1-los,p*(k-1),p*(n-k-1))\n",
    "print(f'Ftable: {Ftab}')"
   ]
  },
  {
   "cell_type": "code",
   "execution_count": 164,
   "metadata": {},
   "outputs": [
    {
     "name": "stdout",
     "output_type": "stream",
     "text": [
      "We Reject H0\n"
     ]
    }
   ],
   "source": [
    "if Ftab<Fcal:\n",
    "    print('We Reject H0')\n",
    "else:\n",
    "    print('We accept H0')"
   ]
  }
 ],
 "metadata": {
  "kernelspec": {
   "display_name": "Python 3.9.7 ('base')",
   "language": "python",
   "name": "python3"
  },
  "language_info": {
   "codemirror_mode": {
    "name": "ipython",
    "version": 3
   },
   "file_extension": ".py",
   "mimetype": "text/x-python",
   "name": "python",
   "nbconvert_exporter": "python",
   "pygments_lexer": "ipython3",
   "version": "3.9.7"
  },
  "orig_nbformat": 4,
  "vscode": {
   "interpreter": {
    "hash": "ad2bdc8ecc057115af97d19610ffacc2b4e99fae6737bb82f5d7fb13d2f2c186"
   }
  }
 },
 "nbformat": 4,
 "nbformat_minor": 2
}
