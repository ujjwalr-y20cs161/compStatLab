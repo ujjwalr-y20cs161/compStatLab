{
 "cells": [
  {
   "cell_type": "code",
   "execution_count": 2,
   "metadata": {},
   "outputs": [],
   "source": [
    "def line():\n",
    "    print('-------------------------------------------------------------------------------')"
   ]
  },
  {
   "cell_type": "markdown",
   "metadata": {},
   "source": [
    "**Principal Component Analysis**"
   ]
  },
  {
   "cell_type": "code",
   "execution_count": 28,
   "metadata": {},
   "outputs": [],
   "source": [
    "import numpy as np\n",
    "import pandas as pd"
   ]
  },
  {
   "cell_type": "code",
   "execution_count": 11,
   "metadata": {},
   "outputs": [
    {
     "name": "stdout",
     "output_type": "stream",
     "text": [
      "[[90 60 90]\n",
      " [90 90 30]\n",
      " [60 60 60]\n",
      " [60 60 90]\n",
      " [30 30 30]] 5\n"
     ]
    }
   ],
   "source": [
    "n = int(input('Number of variables'))\n",
    "x = []\n",
    "\n",
    "for i in range(n):\n",
    "    x.append(list(map(int,input(f'variable {i+1}').split())))\n",
    "m = len(x[0])\n",
    "x = np.transpose(x)\n",
    "print(x,m)\n"
   ]
  },
  {
   "cell_type": "code",
   "execution_count": 13,
   "metadata": {},
   "outputs": [
    {
     "data": {
      "text/plain": [
       "array([[504., 360., 180.],\n",
       "       [360., 360.,   0.],\n",
       "       [180.,   0., 720.]])"
      ]
     },
     "execution_count": 13,
     "metadata": {},
     "output_type": "execute_result"
    }
   ],
   "source": [
    "u = np.mean(x,axis=0)\n",
    "xu = x-u\n",
    "C = np.matmul(np.transpose(xu),xu)/m\n",
    "C"
   ]
  },
  {
   "cell_type": "code",
   "execution_count": 20,
   "metadata": {},
   "outputs": [
    {
     "name": "stdout",
     "output_type": "stream",
     "text": [
      "Eigen values:\n",
      "[ 44.81966028 910.06995304 629.11038668]\n",
      "Eigen Vectors:\n",
      "[[ 0.6487899  -0.65580225 -0.3859988 ]\n",
      " [-0.74104991 -0.4291978  -0.51636642]\n",
      " [-0.17296443 -0.62105769  0.7644414 ]]\n",
      "Eigen vectors right way:\n",
      " [[ 0.6487899  -0.74104991 -0.17296443]\n",
      " [-0.65580225 -0.4291978  -0.62105769]\n",
      " [-0.3859988  -0.51636642  0.7644414 ]]\n",
      "corrected eigen vector:\n",
      " [[ 0.6487899  -0.74104991 -0.17296443]\n",
      " [ 0.65580225  0.4291978   0.62105769]\n",
      " [-0.3859988  -0.51636642  0.7644414 ]]\n"
     ]
    }
   ],
   "source": [
    "lam,e = np.linalg.eig(C)\n",
    "\n",
    "print('Eigen values:',lam,'Eigen Vectors:',e,sep='\\n')\n",
    "evct = e.transpose()\n",
    "print('Eigen vectors right way:\\n',evct)\n",
    "\n",
    "for i in range(len(evct)):\n",
    "    v = 0\n",
    "    for j in range(len(evct[0])):\n",
    "        if evct[i][j]< 0:\n",
    "            v+=1\n",
    "    \n",
    "    if v == len(evct):\n",
    "        evct[i] = -1*evct[i]\n",
    "\n",
    "        \n",
    "print('corrected eigen vector:\\n',evct)"
   ]
  },
  {
   "cell_type": "code",
   "execution_count": 34,
   "metadata": {},
   "outputs": [
    {
     "name": "stdout",
     "output_type": "stream",
     "text": [
      "[910.06995304 629.11038668  44.81966028]\n",
      "[[ 0.65580225  0.4291978   0.62105769]\n",
      " [-0.3859988  -0.51636642  0.7644414 ]\n",
      " [ 0.6487899  -0.74104991 -0.17296443]]\n"
     ]
    }
   ],
   "source": [
    "eval = -np.sort(-lam)\n",
    "print(eval)\n",
    "z = []\n",
    "ind = []\n",
    "for i in eval:\n",
    "    for j in range(len(lam)):\n",
    "        if i == lam[j]:\n",
    "            ind.append(j)\n",
    "\n",
    "for i in ind:\n",
    "    z.append(evct[i])\n",
    "z = np.array(z)\n",
    "print(z)"
   ]
  },
  {
   "cell_type": "code",
   "execution_count": 33,
   "metadata": {},
   "outputs": [
    {
     "data": {
      "text/html": [
       "<div>\n",
       "<style scoped>\n",
       "    .dataframe tbody tr th:only-of-type {\n",
       "        vertical-align: middle;\n",
       "    }\n",
       "\n",
       "    .dataframe tbody tr th {\n",
       "        vertical-align: top;\n",
       "    }\n",
       "\n",
       "    .dataframe thead th {\n",
       "        text-align: right;\n",
       "    }\n",
       "</style>\n",
       "<table border=\"1\" class=\"dataframe\">\n",
       "  <thead>\n",
       "    <tr style=\"text-align: right;\">\n",
       "      <th></th>\n",
       "      <th>PC</th>\n",
       "      <th>var exp</th>\n",
       "      <th>cummulate var</th>\n",
       "    </tr>\n",
       "  </thead>\n",
       "  <tbody>\n",
       "    <tr>\n",
       "      <th>0</th>\n",
       "      <td>z1</td>\n",
       "      <td>910.069953</td>\n",
       "      <td>0.574539</td>\n",
       "    </tr>\n",
       "    <tr>\n",
       "      <th>1</th>\n",
       "      <td>z2</td>\n",
       "      <td>629.110387</td>\n",
       "      <td>0.971705</td>\n",
       "    </tr>\n",
       "    <tr>\n",
       "      <th>2</th>\n",
       "      <td>z3</td>\n",
       "      <td>44.819660</td>\n",
       "      <td>1.000000</td>\n",
       "    </tr>\n",
       "  </tbody>\n",
       "</table>\n",
       "</div>"
      ],
      "text/plain": [
       "   PC     var exp  cummulate var\n",
       "0  z1  910.069953       0.574539\n",
       "1  z2  629.110387       0.971705\n",
       "2  z3   44.819660       1.000000"
      ]
     },
     "execution_count": 33,
     "metadata": {},
     "output_type": "execute_result"
    }
   ],
   "source": [
    "val ={\n",
    "    'PC':['z'+f'{i+1}' for i in range(len(eval))],\n",
    "    'var exp':eval\n",
    "}\n",
    "\n",
    "ans = pd.DataFrame(val)\n",
    "zx = []\n",
    "s = 0\n",
    "tt = sum(eval)\n",
    "for i in eval:\n",
    "    s+=i\n",
    "    zx.append(s/tt)\n",
    "ans['cummulate var'] = zx\n",
    "ans"
   ]
  },
  {
   "cell_type": "code",
   "execution_count": 49,
   "metadata": {},
   "outputs": [
    {
     "name": "stdout",
     "output_type": "stream",
     "text": [
      "0.5745391117683308\n",
      "0.9717047599225765\n",
      "1\n",
      "[90 60 90] [0.65580225 0.4291978  0.62105769]\n",
      "[90 90 30] [0.65580225 0.4291978  0.62105769]\n",
      "[60 60 60] [0.65580225 0.4291978  0.62105769]\n",
      "[60 60 90] [0.65580225 0.4291978  0.62105769]\n",
      "[30 30 30] [0.65580225 0.4291978  0.62105769]\n",
      "[90 60 90] [-0.3859988  -0.51636642  0.7644414 ]\n",
      "[90 90 30] [-0.3859988  -0.51636642  0.7644414 ]\n",
      "[60 60 60] [-0.3859988  -0.51636642  0.7644414 ]\n",
      "[60 60 90] [-0.3859988  -0.51636642  0.7644414 ]\n",
      "[30 30 30] [-0.3859988  -0.51636642  0.7644414 ]\n"
     ]
    }
   ],
   "source": [
    "indx = 0\n",
    "for i in range(len(zx)):\n",
    "    print(zx[i])\n",
    "    if zx[i] > 0.90:\n",
    "        indx = i\n",
    "        break\n",
    "print(indx)\n",
    "res = []\n",
    "for i in range(indx+1):\n",
    "    resi = []\n",
    "    for j in x:\n",
    "        print(j,z[i])\n",
    "        for r,t in zip(j,z[i]):\n",
    "            \n"
   ]
  }
 ],
 "metadata": {
  "kernelspec": {
   "display_name": "Python 3.9.7 ('base')",
   "language": "python",
   "name": "python3"
  },
  "language_info": {
   "codemirror_mode": {
    "name": "ipython",
    "version": 3
   },
   "file_extension": ".py",
   "mimetype": "text/x-python",
   "name": "python",
   "nbconvert_exporter": "python",
   "pygments_lexer": "ipython3",
   "version": "3.9.7"
  },
  "orig_nbformat": 4,
  "vscode": {
   "interpreter": {
    "hash": "ad2bdc8ecc057115af97d19610ffacc2b4e99fae6737bb82f5d7fb13d2f2c186"
   }
  }
 },
 "nbformat": 4,
 "nbformat_minor": 2
}
