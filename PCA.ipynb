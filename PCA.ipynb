{
 "cells": [
  {
   "cell_type": "code",
   "execution_count": 25,
   "metadata": {},
   "outputs": [],
   "source": [
    "def line():\n",
    "    print('-------------------------------------------------------------------------------')"
   ]
  },
  {
   "cell_type": "markdown",
   "metadata": {},
   "source": [
    "**Principal Component Analysis**"
   ]
  },
  {
   "cell_type": "code",
   "execution_count": 26,
   "metadata": {},
   "outputs": [],
   "source": [
    "import numpy as np\n",
    "import pandas as pd"
   ]
  },
  {
   "cell_type": "code",
   "execution_count": 27,
   "metadata": {},
   "outputs": [
    {
     "name": "stdout",
     "output_type": "stream",
     "text": [
      "[[ 3  6  5]\n",
      " [ 7  3  3]\n",
      " [10  9  8]\n",
      " [ 3  9  7]\n",
      " [10  6  5]] 5\n"
     ]
    }
   ],
   "source": [
    "n = int(input('Number of variables'))\n",
    "x = []\n",
    "\n",
    "for i in range(n):\n",
    "    x.append(list(map(int,input(f'variable {i+1}').split())))\n",
    "m = len(x[0])\n",
    "x = np.transpose(x)\n",
    "print(x,m)\n"
   ]
  },
  {
   "cell_type": "code",
   "execution_count": 28,
   "metadata": {},
   "outputs": [
    {
     "data": {
      "text/plain": [
       "array([[ 9.84, -0.36,  0.44],\n",
       "       [-0.36,  5.04,  3.84],\n",
       "       [ 0.44,  3.84,  3.04]])"
      ]
     },
     "execution_count": 28,
     "metadata": {},
     "output_type": "execute_result"
    }
   ],
   "source": [
    "u = np.mean(x,axis=0)\n",
    "xu = x-u\n",
    "C = np.matmul(np.transpose(xu),xu)/m\n",
    "C"
   ]
  },
  {
   "cell_type": "code",
   "execution_count": 29,
   "metadata": {},
   "outputs": [
    {
     "name": "stdout",
     "output_type": "stream",
     "text": [
      "Eigen values:\n",
      "[0.03897648 9.87308342 8.00794009]\n",
      "Eigen Vectors:\n",
      "[[-0.05788553 -0.9982878   0.00841062]\n",
      " [-0.61061578  0.04206905  0.79080881]\n",
      " [ 0.78980861 -0.04064073  0.61200547]]\n",
      "Eigen vectors right way:\n",
      " [[-0.05788553 -0.61061578  0.78980861]\n",
      " [-0.9982878   0.04206905 -0.04064073]\n",
      " [ 0.00841062  0.79080881  0.61200547]]\n",
      "corrected eigen vector:\n",
      " [[-0.05788553 -0.61061578  0.78980861]\n",
      " [-0.9982878   0.04206905 -0.04064073]\n",
      " [ 0.00841062  0.79080881  0.61200547]]\n"
     ]
    }
   ],
   "source": [
    "lam,e = np.linalg.eig(C)\n",
    "\n",
    "print('Eigen values:',lam,'Eigen Vectors:',e,sep='\\n')\n",
    "evct = e.transpose()\n",
    "print('Eigen vectors right way:\\n',evct)\n",
    "\n",
    "for i in range(len(evct)):\n",
    "    v = 0\n",
    "    for j in range(len(evct[0])):\n",
    "        if evct[i][j]< 0:\n",
    "            v+=1\n",
    "    \n",
    "    if v == len(evct):\n",
    "        evct[i] = -1*evct[i]\n",
    "\n",
    "        \n",
    "print('corrected eigen vector:\\n',evct)"
   ]
  },
  {
   "cell_type": "code",
   "execution_count": 30,
   "metadata": {},
   "outputs": [
    {
     "name": "stdout",
     "output_type": "stream",
     "text": [
      "[9.87308342 8.00794009 0.03897648]\n",
      "[[-0.9982878   0.04206905 -0.04064073]\n",
      " [ 0.00841062  0.79080881  0.61200547]\n",
      " [-0.05788553 -0.61061578  0.78980861]]\n"
     ]
    }
   ],
   "source": [
    "eval = -np.sort(-lam)\n",
    "print(eval)\n",
    "z = []\n",
    "ind = []\n",
    "for i in eval:\n",
    "    for j in range(len(lam)):\n",
    "        if i == lam[j]:\n",
    "            ind.append(j)\n",
    "\n",
    "for i in ind:\n",
    "    z.append(evct[i])\n",
    "z = np.array(z)\n",
    "print(z)"
   ]
  },
  {
   "cell_type": "code",
   "execution_count": 31,
   "metadata": {},
   "outputs": [
    {
     "data": {
      "text/html": [
       "<div>\n",
       "<style scoped>\n",
       "    .dataframe tbody tr th:only-of-type {\n",
       "        vertical-align: middle;\n",
       "    }\n",
       "\n",
       "    .dataframe tbody tr th {\n",
       "        vertical-align: top;\n",
       "    }\n",
       "\n",
       "    .dataframe thead th {\n",
       "        text-align: right;\n",
       "    }\n",
       "</style>\n",
       "<table border=\"1\" class=\"dataframe\">\n",
       "  <thead>\n",
       "    <tr style=\"text-align: right;\">\n",
       "      <th></th>\n",
       "      <th>PC</th>\n",
       "      <th>var exp</th>\n",
       "      <th>cummulate var</th>\n",
       "    </tr>\n",
       "  </thead>\n",
       "  <tbody>\n",
       "    <tr>\n",
       "      <th>0</th>\n",
       "      <td>z1</td>\n",
       "      <td>9.873083</td>\n",
       "      <td>0.550953</td>\n",
       "    </tr>\n",
       "    <tr>\n",
       "      <th>1</th>\n",
       "      <td>z2</td>\n",
       "      <td>8.007940</td>\n",
       "      <td>0.997825</td>\n",
       "    </tr>\n",
       "    <tr>\n",
       "      <th>2</th>\n",
       "      <td>z3</td>\n",
       "      <td>0.038976</td>\n",
       "      <td>1.000000</td>\n",
       "    </tr>\n",
       "  </tbody>\n",
       "</table>\n",
       "</div>"
      ],
      "text/plain": [
       "   PC   var exp  cummulate var\n",
       "0  z1  9.873083       0.550953\n",
       "1  z2  8.007940       0.997825\n",
       "2  z3  0.038976       1.000000"
      ]
     },
     "execution_count": 31,
     "metadata": {},
     "output_type": "execute_result"
    }
   ],
   "source": [
    "val ={\n",
    "    'PC':['z'+f'{i+1}' for i in range(len(eval))],\n",
    "    'var exp':eval\n",
    "}\n",
    "\n",
    "ans = pd.DataFrame(val)\n",
    "zx = []\n",
    "s = 0\n",
    "tt = sum(eval)\n",
    "for i in eval:\n",
    "    s+=i\n",
    "    zx.append(s/tt)\n",
    "ans['cummulate var'] = zx\n",
    "ans"
   ]
  },
  {
   "cell_type": "code",
   "execution_count": 33,
   "metadata": {},
   "outputs": [
    {
     "name": "stdout",
     "output_type": "stream",
     "text": [
      "0.5509533160100639\n",
      "0.9978249730732559\n",
      "1\n",
      "[[ 2.94565277  7.83011205]\n",
      " [ 6.98372964  4.26731718]\n",
      " [ 9.92938241 12.09742923]\n",
      " [ 2.9007271  11.4265494 ]\n",
      " [ 9.93366735  7.88898641]]\n"
     ]
    }
   ],
   "source": [
    "indx = 0\n",
    "for i in range(len(zx)):\n",
    "    print(zx[i])\n",
    "    if zx[i] > 0.90:\n",
    "        indx = i\n",
    "        break\n",
    "print(indx)\n",
    "res = []\n",
    "for i in range(indx+1):\n",
    "    resi = []\n",
    "    for j in x:\n",
    "        # print(j,z[i])\n",
    "        s = 0\n",
    "        for r,t in zip(j,z[i]):\n",
    "            s+=r*t\n",
    "        resi.append(abs(s))\n",
    "    res.append(resi)\n",
    "res = np.transpose(res)\n",
    "print(res)\n"
   ]
  }
 ],
 "metadata": {
  "kernelspec": {
   "display_name": "Python 3.9.7 ('base')",
   "language": "python",
   "name": "python3"
  },
  "language_info": {
   "codemirror_mode": {
    "name": "ipython",
    "version": 3
   },
   "file_extension": ".py",
   "mimetype": "text/x-python",
   "name": "python",
   "nbconvert_exporter": "python",
   "pygments_lexer": "ipython3",
   "version": "3.9.7"
  },
  "orig_nbformat": 4,
  "vscode": {
   "interpreter": {
    "hash": "ad2bdc8ecc057115af97d19610ffacc2b4e99fae6737bb82f5d7fb13d2f2c186"
   }
  }
 },
 "nbformat": 4,
 "nbformat_minor": 2
}
