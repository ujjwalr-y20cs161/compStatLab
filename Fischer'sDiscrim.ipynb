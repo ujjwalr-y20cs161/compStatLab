{
 "cells": [
  {
   "cell_type": "code",
   "execution_count": 112,
   "metadata": {},
   "outputs": [],
   "source": [
    "import numpy as np"
   ]
  },
  {
   "cell_type": "code",
   "execution_count": 113,
   "metadata": {},
   "outputs": [
    {
     "data": {
      "text/plain": [
       "[array([[1300. ,    2.7],\n",
       "        [1260. ,    3.7],\n",
       "        [1220. ,    2.9],\n",
       "        [1180. ,    2.5],\n",
       "        [1060. ,    3.9]]),\n",
       " array([[1140. ,    2.1],\n",
       "        [1100. ,    3.5],\n",
       "        [1020. ,    3.3],\n",
       "        [ 980. ,    2.3],\n",
       "        [ 940. ,    3.1]])]"
      ]
     },
     "execution_count": 113,
     "metadata": {},
     "output_type": "execute_result"
    }
   ],
   "source": [
    "g,p = map(int,input('Enter number of Groups and number of Variables').split())\n",
    "T = []\n",
    "\n",
    "for i in range(g):\n",
    "    gi = []\n",
    "    for j in range(p):\n",
    "        li = list(map(float,input(f'input grp: {i+1} and var : {j+1} : ').split()))\n",
    "        gi.append(li)\n",
    "    T.append(np.array(gi).transpose())\n",
    "\n",
    "T"
   ]
  },
  {
   "cell_type": "code",
   "execution_count": 114,
   "metadata": {},
   "outputs": [
    {
     "name": "stdout",
     "output_type": "stream",
     "text": [
      "mean of groups-->\n",
      " [[1204.      3.14]\n",
      " [1036.      2.86]]\n",
      "X---> mean of X -->\n",
      "[[1300.     2.7]\n",
      " [1260.     3.7]\n",
      " [1220.     2.9]\n",
      " [1180.     2.5]\n",
      " [1060.     3.9]\n",
      " [1140.     2.1]\n",
      " [1100.     3.5]\n",
      " [1020.     3.3]\n",
      " [ 980.     2.3]\n",
      " [ 940.     3.1]]\n",
      "[1120.    3.]\n",
      "X-U-->\n",
      "[[ 1.8e+02 -3.0e-01]\n",
      " [ 1.4e+02  7.0e-01]\n",
      " [ 1.0e+02 -1.0e-01]\n",
      " [ 6.0e+01 -5.0e-01]\n",
      " [-6.0e+01  9.0e-01]\n",
      " [ 2.0e+01 -9.0e-01]\n",
      " [-2.0e+01  5.0e-01]\n",
      " [-1.0e+02  3.0e-01]\n",
      " [-1.4e+02 -7.0e-01]\n",
      " [-1.8e+02  1.0e-01]]\n"
     ]
    }
   ],
   "source": [
    "from tkinter import PROJECTING\n",
    "\n",
    "\n",
    "ux = []\n",
    "for i in T:\n",
    "    ui = np.mean(i,axis=0)\n",
    "    ux.append(ui)\n",
    "ux = np.array(ux)\n",
    "print(\"mean of groups-->\\n\",ux)\n",
    "\n",
    "F = []\n",
    "for i in T:\n",
    "    F.extend(i)\n",
    "\n",
    "X = np.array(F)\n",
    "u = np.mean(X,axis=0)\n",
    "print('X---> mean of X -->')\n",
    "print(X,u,sep='\\n')\n",
    "X_u = []\n",
    "for i in X:\n",
    "    X_u.append(i-u)\n",
    "X_u = np.array(X_u)\n",
    "print('X-U-->',X_u,sep='\\n')\n"
   ]
  },
  {
   "cell_type": "code",
   "execution_count": 115,
   "metadata": {},
   "outputs": [
    {
     "name": "stdout",
     "output_type": "stream",
     "text": [
      "10\n"
     ]
    }
   ],
   "source": [
    "n = len(X)\n",
    "print(n)"
   ]
  },
  {
   "cell_type": "code",
   "execution_count": 116,
   "metadata": {},
   "outputs": [
    {
     "name": "stdout",
     "output_type": "stream",
     "text": [
      "pooled Co-var: \n",
      " [[ 1.32e+04 -2.80e+00]\n",
      " [-2.80e+00  3.30e-01]]\n",
      "c^-1 = :\n",
      " [[7.58941713e-05 6.43950545e-04]\n",
      " [6.43950545e-04 3.03576685e+00]]\n"
     ]
    }
   ],
   "source": [
    "c = np.matmul(X_u.transpose(),X_u)/n\n",
    "\n",
    "print('pooled Co-var: \\n',c)\n",
    "cinv = np.linalg.inv(c)\n",
    "print('c^-1 = :\\n',cinv)"
   ]
  },
  {
   "cell_type": "code",
   "execution_count": 117,
   "metadata": {},
   "outputs": [
    {
     "name": "stdout",
     "output_type": "stream",
     "text": [
      "[[1000. ]\n",
      " [   2.9]]\n"
     ]
    }
   ],
   "source": [
    "ex = np.array(list(map(float,input('Enter the Observation to be Evaluated : ').split()))).transpose()\n",
    "ex = ex.reshape(p,1)\n",
    "print(ex)"
   ]
  },
  {
   "cell_type": "code",
   "execution_count": 118,
   "metadata": {},
   "outputs": [
    {
     "name": "stdout",
     "output_type": "stream",
     "text": [
      "probs :  [0.5, 0.5]\n",
      "[[1000. ]\n",
      " [   2.9]] belongs to group 2\n"
     ]
    }
   ],
   "source": [
    "from cmath import log\n",
    "\n",
    "pp = input('Is probabilities given:')\n",
    "if pp.capitalize == 'Yes':\n",
    "    pr = list(map(float,input('Enter::').split()))\n",
    "    pr = [0.25,0.25,0.5]\n",
    "else:\n",
    "    pr = [len(T[i])/n for i in range(g)]\n",
    "\n",
    "print('probs : ',pr)\n",
    "\n",
    "f = []\n",
    "\n",
    "for i in range(g):\n",
    "    ucxt = np.matmul(np.matmul(ux[i],cinv),ex)\n",
    "    ucut = ((np.matmul(np.matmul(ux[i],cinv),ux[i].transpose())))\n",
    "    ln = log(pr[i])\n",
    "    # print(ucxt,ucut,ln)\n",
    "    f.append(ucxt-0.5*ucut+ln)\n",
    "\n",
    "mx = max(f)\n",
    "for i in range(g):\n",
    "    if f[i] == mx:\n",
    "        print(f'{ex} belongs to group {i+1}')\n",
    "# print(f)"
   ]
  }
 ],
 "metadata": {
  "kernelspec": {
   "display_name": "Python 3.9.7 ('base')",
   "language": "python",
   "name": "python3"
  },
  "language_info": {
   "codemirror_mode": {
    "name": "ipython",
    "version": 3
   },
   "file_extension": ".py",
   "mimetype": "text/x-python",
   "name": "python",
   "nbconvert_exporter": "python",
   "pygments_lexer": "ipython3",
   "version": "3.9.7"
  },
  "orig_nbformat": 4,
  "vscode": {
   "interpreter": {
    "hash": "ad2bdc8ecc057115af97d19610ffacc2b4e99fae6737bb82f5d7fb13d2f2c186"
   }
  }
 },
 "nbformat": 4,
 "nbformat_minor": 2
}
