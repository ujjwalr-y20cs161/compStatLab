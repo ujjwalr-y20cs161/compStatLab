{
 "cells": [
  {
   "cell_type": "code",
   "execution_count": 2,
   "metadata": {},
   "outputs": [],
   "source": [
    "import numpy as np"
   ]
  },
  {
   "cell_type": "markdown",
   "metadata": {},
   "source": [
    "**Matrix operation**"
   ]
  },
  {
   "cell_type": "code",
   "execution_count": 82,
   "metadata": {},
   "outputs": [],
   "source": [
    "def transpos(mt):\n",
    "    x = mt.shape\n",
    "    mtt = np.zeros(x,float)\n",
    "    \n",
    "    for i in range(x[0]):\n",
    "        for j in range(x[1]):\n",
    "            mtt[i][j] = mt[j][i]\n",
    "    return mtt\n",
    "\n"
   ]
  },
  {
   "cell_type": "code",
   "execution_count": 22,
   "metadata": {},
   "outputs": [],
   "source": [
    "def minor(m,i,j):\n",
    "    mc = np.copy(m)\n",
    "    mc = np.delete(mc,(i),axis=0)\n",
    "    mc = np.delete(mc,(j),axis=1)\n",
    "    return mc\n",
    "\n",
    "    \n",
    "def deter(m):\n",
    "    x = m.shape\n",
    "\n",
    "    if x == (2,2):\n",
    "        return m[0][0]*m[1][1] - m[0][1]*m[1][0]\n",
    "\n",
    "    elif x == (3,3):\n",
    "        det = 0\n",
    "        for i in range(x[0]):\n",
    "            idet = deter(minor(m,0,i))\n",
    "            if i%2 == 0:\n",
    "                det+=m[0][i]*idet\n",
    "            else : \n",
    "                det-=m[0][i]*idet\n",
    "        return det\n",
    "\n",
    "    else : print('Invalid')"
   ]
  },
  {
   "cell_type": "code",
   "execution_count": 78,
   "metadata": {},
   "outputs": [],
   "source": [
    "def cofact(m):\n",
    "    x = m.shape\n",
    "\n",
    "    if x == (3,3):\n",
    "        cof = np.zeros((4,4),float)\n",
    "\n",
    "        for i in range(4):\n",
    "            for j in range(4):\n",
    "                cof[i][j] = m[(i+1)%3][(j+1)%3]\n",
    "    return cof\n",
    "\n",
    "def invminor(m,i,j):\n",
    "    return m[i:i+2,j:j+2]\n",
    "\n",
    "def invers(m):\n",
    "    x = m.shape\n",
    "    if deter(m)!=0:\n",
    "        if x == (2,2):\n",
    "            cof = np.copy(m)\n",
    "            cof[0][0],cof[1][1] = cof[1][1],cof[0][0]\n",
    "            cof[0][1],cof[1][0] = -cof[0][1],-cof[1][0]\n",
    "            inv = cof/deter(m)\n",
    "\n",
    "\n",
    "        elif x == (3,3):\n",
    "            inv = np.zeros(x,float)\n",
    "            cof = transpos(cofact(m))\n",
    "            for i in range(3):\n",
    "                for j in range(3):\n",
    "                    inv[i][j] = deter(invminor(cof,i,j))\n",
    "            inv = inv/deter(m)      \n",
    "        return inv"
   ]
  },
  {
   "cell_type": "code",
   "execution_count": 50,
   "metadata": {},
   "outputs": [],
   "source": [
    "def matrixadd(m1,m2):\n",
    "    x = m1.shape\n",
    "    y = m2.shape\n",
    "\n",
    "    if x == y:\n",
    "        ad = np.zeros(x,float)\n",
    "        for i in range(x[0]):\n",
    "            for j in range(x[1]):\n",
    "                ad[i][j] = m1[i][j]+m2[i][j]\n",
    "\n",
    "        return ad\n",
    "    else: print('Invalid')\n",
    "\n",
    "    \n",
    "def matrixmult(x1,x2):\n",
    "    (m1,n1)= x1.shape\n",
    "    (m2,n2)= x2.shape\n",
    "\n",
    "    if n1 == m2:\n",
    "        mul = np.zeros((m1,n2),float)\n",
    "        print(mul)\n",
    "        for i in range(m1):\n",
    "            for j in range(n2):\n",
    "                for k in range(m2):\n",
    "                    mul[i][j] += x1[i][k]*x2[k][j]\n",
    "        return mul\n",
    "    else: print('Invalid')"
   ]
  }
 ],
 "metadata": {
  "kernelspec": {
   "display_name": "Python 3.9.5 64-bit",
   "language": "python",
   "name": "python3"
  },
  "language_info": {
   "codemirror_mode": {
    "name": "ipython",
    "version": 3
   },
   "file_extension": ".py",
   "mimetype": "text/x-python",
   "name": "python",
   "nbconvert_exporter": "python",
   "pygments_lexer": "ipython3",
   "version": "3.9.5"
  },
  "orig_nbformat": 4,
  "vscode": {
   "interpreter": {
    "hash": "81794d4967e6c3204c66dcd87b604927b115b27c00565d3d43f05ba2f3a2cb0d"
   }
  }
 },
 "nbformat": 4,
 "nbformat_minor": 2
}
