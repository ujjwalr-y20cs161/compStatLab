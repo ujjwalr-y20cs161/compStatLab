{
 "cells": [
  {
   "cell_type": "code",
   "execution_count": 1,
   "metadata": {},
   "outputs": [],
   "source": [
    "import numpy as np"
   ]
  },
  {
   "cell_type": "code",
   "execution_count": 25,
   "metadata": {},
   "outputs": [],
   "source": [
    "def transpose(matrix):\n",
    "    x = matrix.shape\n",
    "    m_new = np.zeros(x,int)\n",
    "    # print(m_new)\n",
    "    for i in range(x[0]):\n",
    "        for j in range(x[1]):\n",
    "            m_new[i][j] = matrix[j][i]\n",
    "    \n",
    "    return (m_new)\n",
    "        "
   ]
  },
  {
   "cell_type": "code",
   "execution_count": 90,
   "metadata": {},
   "outputs": [
    {
     "name": "stdout",
     "output_type": "stream",
     "text": [
      "The matrix is ::\n",
      "[[1, 2, 4], [4, 5, 6], [6, 7, 8]] \n",
      " The transpose is ::\n",
      "[[1 3 5]\n",
      " [2 4 6]\n",
      " [3 5 7]]\n"
     ]
    },
    {
     "data": {
      "text/plain": [
       "array([[4, 5],\n",
       "       [6, 7]])"
      ]
     },
     "execution_count": 90,
     "metadata": {},
     "output_type": "execute_result"
    }
   ],
   "source": [
    "matrix = np.array([[1,2,3],[3,4,5],[5,6,7]])\n",
    "mt=transpose(matrix)\n",
    "print(f'The matrix is ::\\n{m} \\n The transpose is ::\\n{mt}')\n",
    "i = 0\n",
    "matrix[1:,1:]"
   ]
  },
  {
   "cell_type": "code",
   "execution_count": 94,
   "metadata": {},
   "outputs": [],
   "source": [
    "def det22(m):\n",
    "    if m.shape == (2,2):\n",
    "        return m[0][0]*m[1][1] - m[1][0]*m[0][1]"
   ]
  },
  {
   "cell_type": "code",
   "execution_count": 146,
   "metadata": {},
   "outputs": [],
   "source": [
    "def det(matrix):\n",
    "    x = matrix.shape\n",
    "    det = 0\n",
    "            \n",
    "    if x == (2,2):\n",
    "        return det22(matrix)\n",
    "    elif x == (3,3):\n",
    "\n",
    "        for i in range(x[0]):\n",
    "            #submatrix creation\n",
    "            ms = np.copy(matrix)\n",
    "            ms = ms[1:]\n",
    "            ms = np.concatenate([ms[:,:i],ms[:,i+1:]],axis=1)\n",
    "            \n",
    "            # print(ms)\n",
    "            # print(det22(ms))\n",
    "            \n",
    "            # det caluclation\n",
    "            if i%2 == 0:\n",
    "                det += matrix[0][i]*det22(ms)\n",
    "            else:\n",
    "                det -= matrix[0][i]*det22(ms)\n",
    "                \n",
    "        return det\n",
    "    else:\n",
    "        print('Invalid Matrix to calculate the Determinant')\n",
    "        return None"
   ]
  },
  {
   "cell_type": "code",
   "execution_count": 148,
   "metadata": {},
   "outputs": [
    {
     "name": "stdout",
     "output_type": "stream",
     "text": [
      "[[1 2 3]\n",
      " [4 5 6]\n",
      " [7 8 9]]\n",
      "[[5 6]\n",
      " [8 9]]\n",
      "-3\n",
      "[[4 6]\n",
      " [7 9]]\n",
      "-6\n",
      "[[4 5]\n",
      " [7 8]]\n",
      "-3\n"
     ]
    },
    {
     "data": {
      "text/plain": [
       "0"
      ]
     },
     "execution_count": 148,
     "metadata": {},
     "output_type": "execute_result"
    }
   ],
   "source": [
    "ms = np.array([[1,2,3],[4,5,6],[7,8,9]])\n",
    "print(ms)\n",
    "det(ms)"
   ]
  },
  {
   "cell_type": "code",
   "execution_count": null,
   "metadata": {},
   "outputs": [],
   "source": []
  }
 ],
 "metadata": {
  "kernelspec": {
   "display_name": "Python 3.9.7 ('base')",
   "language": "python",
   "name": "python3"
  },
  "language_info": {
   "codemirror_mode": {
    "name": "ipython",
    "version": 3
   },
   "file_extension": ".py",
   "mimetype": "text/x-python",
   "name": "python",
   "nbconvert_exporter": "python",
   "pygments_lexer": "ipython3",
   "version": "3.9.7"
  },
  "orig_nbformat": 4,
  "vscode": {
   "interpreter": {
    "hash": "ad2bdc8ecc057115af97d19610ffacc2b4e99fae6737bb82f5d7fb13d2f2c186"
   }
  }
 },
 "nbformat": 4,
 "nbformat_minor": 2
}
