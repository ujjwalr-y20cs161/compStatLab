{
 "cells": [
  {
   "cell_type": "code",
   "execution_count": 1,
   "metadata": {},
   "outputs": [
    {
     "name": "stdout",
     "output_type": "stream",
     "text": [
      "hello world\n"
     ]
    }
   ],
   "source": [
    "print('hello world')"
   ]
  },
  {
   "cell_type": "markdown",
   "metadata": {},
   "source": [
    "**Discriminant Analysis** using Multi-variate Regression"
   ]
  },
  {
   "cell_type": "code",
   "execution_count": 3,
   "metadata": {},
   "outputs": [],
   "source": [
    "#libraries\n",
    "import numpy as np\n",
    "import scipy.stats as ss"
   ]
  },
  {
   "cell_type": "code",
   "execution_count": 37,
   "metadata": {},
   "outputs": [
    {
     "name": "stdout",
     "output_type": "stream",
     "text": [
      "[[1300.0, 1260.0, 1220.0, 1180.0, 1060.0, 1140.0, 1100.0, 1020.0, 980.0, 940.0], [2.7, 3.7, 2.9, 2.5, 3.9, 2.1, 3.5, 3.3, 2.3, 3.1], [1, 1, 1, 1, 1, 1, 1, 1, 1, 1]]\n",
      "[1, 1, 1, 1, 1, 0, 0, 0, 0, 0]\n"
     ]
    }
   ],
   "source": [
    "a = int(input('number of input variables:'))\n",
    "X = []\n",
    "\n",
    "for i in range(a):\n",
    "    l = list(map(float,input(f'input for row {i+1} : ').split(',')))\n",
    "    X.append(l)\n",
    "\n",
    "one = []\n",
    "for i in range(len(X[0])):\n",
    "    one.append(1)\n",
    "X.append(one)\n",
    "\n",
    "Y = list(input('Output Variable: ').split())\n",
    "for i in range(len(Y)):\n",
    "    if Y[i].capitalize() == 'Yes':\n",
    "        Y[i] = 1\n",
    "    elif Y[i].capitalize() == 'No':\n",
    "        Y[i] = 0\n",
    "    else:\n",
    "        print('Invalid input!')\n",
    "\n",
    "print(X)\n",
    "\n",
    "print(Y)\n",
    "X[0] ,X[-1],X[1] = X[1],X[0],X[-1]"
   ]
  },
  {
   "cell_type": "code",
   "execution_count": 42,
   "metadata": {},
   "outputs": [],
   "source": []
  },
  {
   "cell_type": "code",
   "execution_count": 43,
   "metadata": {},
   "outputs": [
    {
     "name": "stdout",
     "output_type": "stream",
     "text": [
      "[[2.7, 3.7, 2.9, 2.5, 3.9, 2.1, 3.5, 3.3, 2.3, 3.1], [1300.0, 1260.0, 1220.0, 1180.0, 1060.0, 1140.0, 1100.0, 1020.0, 980.0, 940.0], [1, 1, 1, 1, 1, 1, 1, 1, 1, 1]]\n",
      "[[2.70e+00 1.30e+03 1.00e+00]\n",
      " [3.70e+00 1.26e+03 1.00e+00]\n",
      " [2.90e+00 1.22e+03 1.00e+00]\n",
      " [2.50e+00 1.18e+03 1.00e+00]\n",
      " [3.90e+00 1.06e+03 1.00e+00]\n",
      " [2.10e+00 1.14e+03 1.00e+00]\n",
      " [3.50e+00 1.10e+03 1.00e+00]\n",
      " [3.30e+00 1.02e+03 1.00e+00]\n",
      " [2.30e+00 9.80e+02 1.00e+00]\n",
      " [3.10e+00 9.40e+02 1.00e+00]]\n"
     ]
    }
   ],
   "source": [
    "print(X)\n",
    "XN = np.array(X).transpose()\n",
    "print(XN)"
   ]
  },
  {
   "cell_type": "code",
   "execution_count": 35,
   "metadata": {},
   "outputs": [
    {
     "name": "stdout",
     "output_type": "stream",
     "text": [
      "[[1300.0, 1260.0, 1220.0, 1180.0, 1060.0, 1140.0, 1100.0, 1020.0, 980.0, 940.0], [2.7, 3.7, 2.9, 2.5, 3.9, 2.1, 3.5, 3.3, 2.3, 3.1], [1, 1, 1, 1, 1, 1, 1, 1, 1, 1]]\n"
     ]
    }
   ],
   "source": [
    "print(X)"
   ]
  }
 ],
 "metadata": {
  "kernelspec": {
   "display_name": "Python 3.9.7 ('base')",
   "language": "python",
   "name": "python3"
  },
  "language_info": {
   "codemirror_mode": {
    "name": "ipython",
    "version": 3
   },
   "file_extension": ".py",
   "mimetype": "text/x-python",
   "name": "python",
   "nbconvert_exporter": "python",
   "pygments_lexer": "ipython3",
   "version": "3.9.7"
  },
  "orig_nbformat": 4,
  "vscode": {
   "interpreter": {
    "hash": "ad2bdc8ecc057115af97d19610ffacc2b4e99fae6737bb82f5d7fb13d2f2c186"
   }
  }
 },
 "nbformat": 4,
 "nbformat_minor": 2
}
