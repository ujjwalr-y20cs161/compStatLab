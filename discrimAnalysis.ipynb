{
 "cells": [
  {
   "cell_type": "markdown",
   "metadata": {},
   "source": [
    "**Discriminant Analysis** using Multi-variate Regression"
   ]
  },
  {
   "cell_type": "code",
   "execution_count": null,
   "metadata": {},
   "outputs": [],
   "source": [
    "#libraries\n",
    "import numpy as np\n",
    "import scipy.stats as ss"
   ]
  },
  {
   "cell_type": "code",
   "execution_count": 77,
   "metadata": {},
   "outputs": [
    {
     "name": "stdout",
     "output_type": "stream",
     "text": [
      "[[2.95, 2.53, 3.57, 3.16, 2.58, 2.16, 3.27], [6.63, 7.79, 5.65, 5.47, 4.46, 6.22, 3.52], [1, 1, 1, 1, 1, 1, 1]]\n",
      "[1, 1, 1, 1, 0, 0, 0]\n",
      "[[1, 1, 1, 1, 1, 1, 1], [2.95, 2.53, 3.57, 3.16, 2.58, 2.16, 3.27], [6.63, 7.79, 5.65, 5.47, 4.46, 6.22, 3.52]]\n"
     ]
    }
   ],
   "source": [
    "a = int(input('number of input variables:'))\n",
    "X = []\n",
    "\n",
    "for i in range(a):\n",
    "    l = list(map(float,input(f'input for row {i+1} : ').split()))\n",
    "    X.append(l)\n",
    "\n",
    "one = []\n",
    "for i in range(len(X[0])):\n",
    "    one.append(1)\n",
    "X.append(one)\n",
    "\n",
    "Y = list(input('Output Variable: ').split())\n",
    "for i in range(len(Y)):\n",
    "    if Y[i].capitalize() == 'Yes':\n",
    "        Y[i] = 1\n",
    "    elif Y[i].capitalize() == 'No':\n",
    "        Y[i] = 0\n",
    "    else:\n",
    "        print('Invalid input!')\n",
    "\n",
    "print(X)\n",
    "\n",
    "print(Y)\n",
    "X[1],X[0],X[-1] = X[0] ,X[-1],X[1]\n",
    "print(X)"
   ]
  },
  {
   "cell_type": "code",
   "execution_count": 78,
   "metadata": {},
   "outputs": [
    {
     "name": "stdout",
     "output_type": "stream",
     "text": [
      "[[1, 1, 1, 1, 1, 1, 1], [2.95, 2.53, 3.57, 3.16, 2.58, 2.16, 3.27], [6.63, 7.79, 5.65, 5.47, 4.46, 6.22, 3.52]]\n",
      "[[1.   2.95 6.63]\n",
      " [1.   2.53 7.79]\n",
      " [1.   3.57 5.65]\n",
      " [1.   3.16 5.47]\n",
      " [1.   2.58 4.46]\n",
      " [1.   2.16 6.22]\n",
      " [1.   3.27 3.52]]\n"
     ]
    }
   ],
   "source": [
    "print(X)\n",
    "XN = np.array(X).transpose()\n",
    "print(XN)"
   ]
  },
  {
   "cell_type": "code",
   "execution_count": 79,
   "metadata": {},
   "outputs": [
    {
     "name": "stdout",
     "output_type": "stream",
     "text": [
      "[-3.9116  0.8533  0.3555]\n"
     ]
    }
   ],
   "source": [
    "Xt = XN.transpose()\n",
    "B = np.matmul((np.linalg.inv(np.matmul(Xt,XN))),np.matmul(Xt,Y))\n",
    "\n",
    "for i in range(len(B)):\n",
    "    B[i] = round(B[i],4)\n",
    "print(B)\n"
   ]
  },
  {
   "cell_type": "code",
   "execution_count": 82,
   "metadata": {},
   "outputs": [
    {
     "name": "stdout",
     "output_type": "stream",
     "text": [
      "No\n"
     ]
    }
   ],
   "source": [
    "ex = list(map(float,input('Enter the Observation to be Evaluated : ').split()))\n",
    "\n",
    "ans = (B[0]+(B[1]*ex[0])+(B[2]*ex[1]))\n",
    "an = round(ans)\n",
    "print('Yes' if an == 1 else 'No')\n"
   ]
  },
  {
   "cell_type": "code",
   "execution_count": null,
   "metadata": {},
   "outputs": [],
   "source": []
  }
 ],
 "metadata": {
  "kernelspec": {
   "display_name": "Python 3.9.7 ('base')",
   "language": "python",
   "name": "python3"
  },
  "language_info": {
   "codemirror_mode": {
    "name": "ipython",
    "version": 3
   },
   "file_extension": ".py",
   "mimetype": "text/x-python",
   "name": "python",
   "nbconvert_exporter": "python",
   "pygments_lexer": "ipython3",
   "version": "3.9.7"
  },
  "orig_nbformat": 4,
  "vscode": {
   "interpreter": {
    "hash": "ad2bdc8ecc057115af97d19610ffacc2b4e99fae6737bb82f5d7fb13d2f2c186"
   }
  }
 },
 "nbformat": 4,
 "nbformat_minor": 2
}
